{
 "cells": [
  {
   "cell_type": "code",
   "execution_count": 68,
   "id": "fc5459f9",
   "metadata": {},
   "outputs": [],
   "source": [
    "import numpy as np\n",
    "import pandas as pd\n",
    "import os"
   ]
  },
  {
   "cell_type": "code",
   "execution_count": 69,
   "id": "884307e3",
   "metadata": {},
   "outputs": [],
   "source": [
    "train_label = pd.read_csv('./data/Training_set.csv')\n",
    "test_label=pd.read_csv('./data/Testing_set.csv')"
   ]
  },
  {
   "cell_type": "code",
   "execution_count": 70,
   "id": "515ea9b3",
   "metadata": {
    "scrolled": true
   },
   "outputs": [],
   "source": [
    "#for i in train_label.index :\n",
    "unique_array=np.unique(train_label['label'],return_index=True)[0]\n",
    "f = open(\"./data/id.csv\", 'w')\n",
    "f.write('species\\n')\n",
    "num = 0\n",
    "for s in unique_array : \n",
    "    val = s + '\\n'\n",
    "    f.write(val)\n",
    "f.close()"
   ]
  },
  {
   "cell_type": "code",
   "execution_count": 71,
   "id": "537be961",
   "metadata": {},
   "outputs": [],
   "source": [
    "label_id = pd.read_csv('./data/id.csv')"
   ]
  },
  {
   "cell_type": "code",
   "execution_count": 72,
   "id": "c590abb1",
   "metadata": {},
   "outputs": [],
   "source": [
    "for i in train_label.index :\n",
    "    train_label.loc[i, 'label'] = label_id.index[(label_id['species'] == train_label.loc[i, 'label'])].to_list()[0]"
   ]
  },
  {
   "cell_type": "code",
   "execution_count": 73,
   "id": "60176776",
   "metadata": {},
   "outputs": [
    {
     "data": {
      "text/html": [
       "<div>\n",
       "<style scoped>\n",
       "    .dataframe tbody tr th:only-of-type {\n",
       "        vertical-align: middle;\n",
       "    }\n",
       "\n",
       "    .dataframe tbody tr th {\n",
       "        vertical-align: top;\n",
       "    }\n",
       "\n",
       "    .dataframe thead th {\n",
       "        text-align: right;\n",
       "    }\n",
       "</style>\n",
       "<table border=\"1\" class=\"dataframe\">\n",
       "  <thead>\n",
       "    <tr style=\"text-align: right;\">\n",
       "      <th></th>\n",
       "      <th>filename</th>\n",
       "      <th>label</th>\n",
       "    </tr>\n",
       "  </thead>\n",
       "  <tbody>\n",
       "    <tr>\n",
       "      <th>0</th>\n",
       "      <td>Image_1.jpg</td>\n",
       "      <td>66</td>\n",
       "    </tr>\n",
       "    <tr>\n",
       "      <th>1</th>\n",
       "      <td>Image_2.jpg</td>\n",
       "      <td>0</td>\n",
       "    </tr>\n",
       "    <tr>\n",
       "      <th>2</th>\n",
       "      <td>Image_3.jpg</td>\n",
       "      <td>12</td>\n",
       "    </tr>\n",
       "    <tr>\n",
       "      <th>3</th>\n",
       "      <td>Image_4.jpg</td>\n",
       "      <td>44</td>\n",
       "    </tr>\n",
       "    <tr>\n",
       "      <th>4</th>\n",
       "      <td>Image_5.jpg</td>\n",
       "      <td>33</td>\n",
       "    </tr>\n",
       "    <tr>\n",
       "      <th>...</th>\n",
       "      <td>...</td>\n",
       "      <td>...</td>\n",
       "    </tr>\n",
       "    <tr>\n",
       "      <th>6494</th>\n",
       "      <td>Image_6495.jpg</td>\n",
       "      <td>40</td>\n",
       "    </tr>\n",
       "    <tr>\n",
       "      <th>6495</th>\n",
       "      <td>Image_6496.jpg</td>\n",
       "      <td>45</td>\n",
       "    </tr>\n",
       "    <tr>\n",
       "      <th>6496</th>\n",
       "      <td>Image_6497.jpg</td>\n",
       "      <td>4</td>\n",
       "    </tr>\n",
       "    <tr>\n",
       "      <th>6497</th>\n",
       "      <td>Image_6498.jpg</td>\n",
       "      <td>29</td>\n",
       "    </tr>\n",
       "    <tr>\n",
       "      <th>6498</th>\n",
       "      <td>Image_6499.jpg</td>\n",
       "      <td>5</td>\n",
       "    </tr>\n",
       "  </tbody>\n",
       "</table>\n",
       "<p>6499 rows × 2 columns</p>\n",
       "</div>"
      ],
      "text/plain": [
       "            filename label\n",
       "0        Image_1.jpg    66\n",
       "1        Image_2.jpg     0\n",
       "2        Image_3.jpg    12\n",
       "3        Image_4.jpg    44\n",
       "4        Image_5.jpg    33\n",
       "...              ...   ...\n",
       "6494  Image_6495.jpg    40\n",
       "6495  Image_6496.jpg    45\n",
       "6496  Image_6497.jpg     4\n",
       "6497  Image_6498.jpg    29\n",
       "6498  Image_6499.jpg     5\n",
       "\n",
       "[6499 rows x 2 columns]"
      ]
     },
     "execution_count": 73,
     "metadata": {},
     "output_type": "execute_result"
    }
   ],
   "source": [
    "train_label"
   ]
  },
  {
   "cell_type": "code",
   "execution_count": null,
   "id": "2999e74d",
   "metadata": {},
   "outputs": [],
   "source": []
  },
  {
   "cell_type": "code",
   "execution_count": null,
   "id": "c989f265",
   "metadata": {},
   "outputs": [],
   "source": []
  },
  {
   "cell_type": "code",
   "execution_count": null,
   "id": "b25ba10d",
   "metadata": {},
   "outputs": [],
   "source": []
  },
  {
   "cell_type": "code",
   "execution_count": null,
   "id": "1326b756",
   "metadata": {},
   "outputs": [],
   "source": []
  },
  {
   "cell_type": "code",
   "execution_count": null,
   "id": "46ea92dd",
   "metadata": {},
   "outputs": [],
   "source": []
  }
 ],
 "metadata": {
  "kernelspec": {
   "display_name": "Python 3 (ipykernel)",
   "language": "python",
   "name": "python3"
  },
  "language_info": {
   "codemirror_mode": {
    "name": "ipython",
    "version": 3
   },
   "file_extension": ".py",
   "mimetype": "text/x-python",
   "name": "python",
   "nbconvert_exporter": "python",
   "pygments_lexer": "ipython3",
   "version": "3.7.15"
  }
 },
 "nbformat": 4,
 "nbformat_minor": 5
}
