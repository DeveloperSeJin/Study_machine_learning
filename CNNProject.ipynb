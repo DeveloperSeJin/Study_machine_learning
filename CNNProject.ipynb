{
  "nbformat": 4,
  "nbformat_minor": 0,
  "metadata": {
    "colab": {
      "provenance": [],
      "authorship_tag": "ABX9TyMNEphHjrejam4IjguGwSYn",
      "include_colab_link": true
    },
    "kernelspec": {
      "name": "python3",
      "display_name": "Python 3"
    },
    "language_info": {
      "name": "python"
    },
    "accelerator": "GPU",
    "gpuClass": "standard"
  },
  "cells": [
    {
      "cell_type": "markdown",
      "metadata": {
        "id": "view-in-github",
        "colab_type": "text"
      },
      "source": [
        "<a href=\"https://colab.research.google.com/github/DeveloperSeJin/Study_machine_learning/blob/main/CNNProject.ipynb\" target=\"_parent\"><img src=\"https://colab.research.google.com/assets/colab-badge.svg\" alt=\"Open In Colab\"/></a>"
      ]
    },
    {
      "cell_type": "code",
      "execution_count": 1,
      "metadata": {
        "id": "wd0cn9EPGHIb"
      },
      "outputs": [],
      "source": [
        "import tensorflow as tf\n",
        "import keras\n",
        "from keras.models import Sequential\n",
        "from keras.layers import Dense, Dropout, Flatten\n",
        "from keras.layers.convolutional import Conv2D, MaxPooling2D\n",
        "import numpy as np"
      ]
    },
    {
      "cell_type": "markdown",
      "source": [
        "# 합성곱 신경망"
      ],
      "metadata": {
        "id": "XCva4HL0MMLX"
      }
    },
    {
      "cell_type": "code",
      "source": [
        "(x_train, y_train), (x_test, y_test) = keras.datasets.mnist.load_data()"
      ],
      "metadata": {
        "id": "oHxrI703GoKW"
      },
      "execution_count": 20,
      "outputs": []
    },
    {
      "cell_type": "code",
      "source": [
        "x_train = x_train[:, :, :, np.newaxis]\n",
        "x_test = x_test[:, :, :, np.newaxis]"
      ],
      "metadata": {
        "id": "f44IqAvsbvbY"
      },
      "execution_count": 25,
      "outputs": []
    },
    {
      "cell_type": "code",
      "source": [
        "x_train.shape"
      ],
      "metadata": {
        "colab": {
          "base_uri": "https://localhost:8080/"
        },
        "id": "Unfa7WHMG5IW",
        "outputId": "45ce2d6d-3591-4451-a5b2-bd909c8ef118"
      },
      "execution_count": 26,
      "outputs": [
        {
          "output_type": "execute_result",
          "data": {
            "text/plain": [
              "(60000, 28, 28, 1)"
            ]
          },
          "metadata": {},
          "execution_count": 26
        }
      ]
    },
    {
      "cell_type": "code",
      "source": [
        "model = keras.models.Sequential( [\n",
        "    keras.layers.Conv2D(input_shape = (28, 28, 1),\n",
        "                        kernel_size = (3,3), padding = 'same', \n",
        "                        filters = 32),\n",
        "     keras.layers.MaxPooling2D((2, 2), strides=2),\n",
        "     keras.layers.Conv2D(kernel_size = (3,3), padding ='same', \n",
        "                        filters = 64),\n",
        "    keras.layers.MaxPooling2D((2, 2), strides=2),\n",
        "    keras.layers.Conv2D(kernel_size = (3,3), padding = 'same', \n",
        "                        filters = 32),\n",
        "    keras.layers.Flatten(),\n",
        "    keras.layers.Dense(128, activation = 'relu'),\n",
        "    keras.layers.Dense(32, activation = 'relu'),\n",
        "    keras.layers.Dense(10, activation = 'softmax'),\n",
        "])"
      ],
      "metadata": {
        "id": "nyjninGwG7c8"
      },
      "execution_count": 29,
      "outputs": []
    },
    {
      "cell_type": "code",
      "source": [
        "model.summary()"
      ],
      "metadata": {
        "colab": {
          "base_uri": "https://localhost:8080/"
        },
        "id": "JDcgkWf9PLQO",
        "outputId": "d41b5058-5b9b-4d28-c3cd-e5a7f4689eb8"
      },
      "execution_count": 23,
      "outputs": [
        {
          "output_type": "stream",
          "name": "stdout",
          "text": [
            "Model: \"sequential_5\"\n",
            "_________________________________________________________________\n",
            " Layer (type)                Output Shape              Param #   \n",
            "=================================================================\n",
            " conv2d_20 (Conv2D)          (None, 28, 28, 128)       3584      \n",
            "                                                                 \n",
            " max_pooling2d_15 (MaxPoolin  (None, 14, 14, 128)      0         \n",
            " g2D)                                                            \n",
            "                                                                 \n",
            " conv2d_21 (Conv2D)          (None, 14, 14, 128)       147584    \n",
            "                                                                 \n",
            " max_pooling2d_16 (MaxPoolin  (None, 7, 7, 128)        0         \n",
            " g2D)                                                            \n",
            "                                                                 \n",
            " conv2d_22 (Conv2D)          (None, 7, 7, 128)         147584    \n",
            "                                                                 \n",
            " max_pooling2d_17 (MaxPoolin  (None, 3, 3, 128)        0         \n",
            " g2D)                                                            \n",
            "                                                                 \n",
            " conv2d_23 (Conv2D)          (None, 3, 3, 128)         147584    \n",
            "                                                                 \n",
            " flatten_5 (Flatten)         (None, 1152)              0         \n",
            "                                                                 \n",
            " dense_15 (Dense)            (None, 128)               147584    \n",
            "                                                                 \n",
            " dense_16 (Dense)            (None, 16)                2064      \n",
            "                                                                 \n",
            " dense_17 (Dense)            (None, 2)                 34        \n",
            "                                                                 \n",
            "=================================================================\n",
            "Total params: 596,018\n",
            "Trainable params: 596,018\n",
            "Non-trainable params: 0\n",
            "_________________________________________________________________\n"
          ]
        }
      ]
    },
    {
      "cell_type": "code",
      "source": [
        "model.compile(optimizer='adam',\n",
        "             loss='sparse_categorical_crossentropy',\n",
        "             metrics=['accuracy'])\n",
        "history = model.fit(x_train, y_train, \n",
        "                    epochs=5, validation_split=0.25)"
      ],
      "metadata": {
        "colab": {
          "base_uri": "https://localhost:8080/"
        },
        "id": "ESyp7mGDQjJC",
        "outputId": "72ea2eb6-6635-4759-f68d-9aa6201ca466"
      },
      "execution_count": 30,
      "outputs": [
        {
          "output_type": "stream",
          "name": "stdout",
          "text": [
            "Epoch 1/5\n",
            "1407/1407 [==============================] - 76s 53ms/step - loss: 0.6085 - accuracy: 0.8372 - val_loss: 0.1402 - val_accuracy: 0.9654\n",
            "Epoch 2/5\n",
            "1407/1407 [==============================] - 78s 55ms/step - loss: 0.1211 - accuracy: 0.9692 - val_loss: 0.1002 - val_accuracy: 0.9750\n",
            "Epoch 3/5\n",
            "1407/1407 [==============================] - 77s 55ms/step - loss: 0.0922 - accuracy: 0.9772 - val_loss: 0.1052 - val_accuracy: 0.9760\n",
            "Epoch 4/5\n",
            "1407/1407 [==============================] - 78s 55ms/step - loss: 0.0892 - accuracy: 0.9767 - val_loss: 0.1161 - val_accuracy: 0.9746\n",
            "Epoch 5/5\n",
            "1407/1407 [==============================] - 78s 56ms/step - loss: 0.0775 - accuracy: 0.9799 - val_loss: 0.0821 - val_accuracy: 0.9779\n"
          ]
        }
      ]
    },
    {
      "cell_type": "code",
      "source": [
        "import matplotlib.pyplot as plt\n",
        "plt.plot(history.history['loss'], 'b-')"
      ],
      "metadata": {
        "id": "MnOJrzGeQyie",
        "colab": {
          "base_uri": "https://localhost:8080/",
          "height": 284
        },
        "outputId": "7eee7b26-1b46-40ac-ac11-226e83dae910"
      },
      "execution_count": 32,
      "outputs": [
        {
          "output_type": "execute_result",
          "data": {
            "text/plain": [
              "[<matplotlib.lines.Line2D at 0x7fe2a44fea90>]"
            ]
          },
          "metadata": {},
          "execution_count": 32
        },
        {
          "output_type": "display_data",
          "data": {
            "text/plain": [
              "<Figure size 432x288 with 1 Axes>"
            ],
            "image/png": "[encoded data removed]"
          },
          "metadata": {
            "needs_background": "light"
          }
        }
      ]
    },
    {
      "cell_type": "code",
      "source": [
        "plt.plot(history.history['accuracy'], 'r-')"
      ],
      "metadata": {
        "colab": {
          "base_uri": "https://localhost:8080/",
          "height": 284
        },
        "id": "D0NinUZrgHZm",
        "outputId": "ee46e375-a559-4abd-cd75-7e09557cfbc2"
      },
      "execution_count": 33,
      "outputs": [
        {
          "output_type": "execute_result",
          "data": {
            "text/plain": [
              "[<matplotlib.lines.Line2D at 0x7fe2a405bcd0>]"
            ]
          },
          "metadata": {},
          "execution_count": 33
        },
        {
          "output_type": "display_data",
          "data": {
            "text/plain": [
              "<Figure size 432x288 with 1 Axes>"
            ],
            "image/png": "[encoded data removed]"
          },
          "metadata": {
            "needs_background": "light"
          }
        }
      ]
    },
    {
      "cell_type": "code",
      "source": [
        "test_loss, test_acc = model.evaluate(x_test, y_test, verbose=2)\n",
        "print('테스트 정확도 : ', test_acc)\n",
        "print('테스트 데이터의 손실값 : ', test_loss)"
      ],
      "metadata": {
        "colab": {
          "base_uri": "https://localhost:8080/"
        },
        "id": "9Lajwnzff7ty",
        "outputId": "87d68ac4-599c-46f0-fbd5-f309dcbd202e"
      },
      "execution_count": 36,
      "outputs": [
        {
          "output_type": "stream",
          "name": "stdout",
          "text": [
            "313/313 - 8s - loss: 0.0764 - accuracy: 0.9813 - 8s/epoch - 27ms/step\n",
            "테스트 정확도 :  0.9812999963760376\n",
            "테스트 데이터의 손실값 :  0.07640685141086578\n"
          ]
        }
      ]
    },
    {
      "cell_type": "markdown",
      "source": [
        "# 데이터 증강"
      ],
      "metadata": {
        "id": "ZDkR_P7RMT6Y"
      }
    },
    {
      "cell_type": "markdown",
      "source": [
        "## 추가 조사 필요"
      ],
      "metadata": {
        "id": "3t9s43WTQDrf"
      }
    },
    {
      "cell_type": "code",
      "source": [
        "import tensorflow as tf\n",
        "import keras\n",
        "from keras.models import Sequential\n",
        "from keras.layers import Dense, Dropout, Flatten\n",
        "from keras.layers.convolutional import Conv2D, MaxPooling2D\n",
        "import numpy as np"
      ],
      "metadata": {
        "id": "SboKTmB7Mme8"
      },
      "execution_count": 3,
      "outputs": []
    },
    {
      "cell_type": "code",
      "source": [
        "from tensorflow.keras.preprocessing.image import ImageDataGenerator"
      ],
      "metadata": {
        "id": "3ATZf5QPgNNm"
      },
      "execution_count": 4,
      "outputs": []
    },
    {
      "cell_type": "code",
      "source": [
        "(x_train, y_train), (x_test, y_test) = keras.datasets.mnist.load_data()\n",
        "x_train = x_train[:20]\n",
        "y_train = y_train[:20]\n",
        "x_test = x_test[:20]\n",
        "y_test = y_test[:20]\n",
        "print(x_train.shape)\n",
        "print(y_train.shape)\n",
        "print(x_test.shape)\n",
        "print(y_test.shape)"
      ],
      "metadata": {
        "colab": {
          "base_uri": "https://localhost:8080/"
        },
        "id": "a629IOYP3dCF",
        "outputId": "368a7e0b-c8f4-40a1-bbb3-8b94120945c2"
      },
      "execution_count": 5,
      "outputs": [
        {
          "output_type": "stream",
          "name": "stdout",
          "text": [
            "Downloading data from https://storage.googleapis.com/tensorflow/tf-keras-datasets/mnist.npz\n",
            "11490434/11490434 [==============================] - 0s 0us/step\n",
            "(20, 28, 28)\n",
            "(20,)\n",
            "(20, 28, 28)\n",
            "(20,)\n"
          ]
        }
      ]
    },
    {
      "cell_type": "code",
      "source": [
        "x_train = x_train[:, :, :, np.newaxis]\n",
        "x_test = x_test[:, :, :, np.newaxis]"
      ],
      "metadata": {
        "id": "wUJrArIGtdfP"
      },
      "execution_count": 6,
      "outputs": []
    },
    {
      "cell_type": "code",
      "source": [
        "datagenerator1 = ImageDataGenerator(\n",
        "    rotation_range = 20\n",
        ")\n",
        "datagenerator2 = ImageDataGenerator(\n",
        "    width_shift_range = 0.2\n",
        ")\n",
        "datagenerator3 = ImageDataGenerator(\n",
        "    height_shift_range = 0.2\n",
        ")\n",
        "datagenerator4 = ImageDataGenerator(\n",
        "    brightness_range = (0.2, 0.7)\n",
        ")\n",
        "datagenerator5 = ImageDataGenerator(\n",
        "    zoom_range = 20\n",
        ")\n",
        "datagenerator6 = ImageDataGenerator(\n",
        "    horizontal_flip = True\n",
        ")\n",
        "datagenerator7 = ImageDataGenerator(\n",
        "    vertical_flip = True\n",
        ")\n",
        "datagenerator8 = ImageDataGenerator(\n",
        "    preprocessing_function = True\n",
        ")\n",
        "datagenerator9 = ImageDataGenerator(\n",
        "    rotation_range = 20,\n",
        "    width_shift_range = 0.2\n",
        ")\n",
        "datagenerator10 = ImageDataGenerator(\n",
        "    rotation_range = 20,\n",
        "    height_shift_range = 0.2\n",
        ")\n",
        "datagenerator11 = ImageDataGenerator(\n",
        "    rotation_range = 20,\n",
        "    brightness_range = (0.2, 0.7)\n",
        ")\n",
        "datagenerator12 = ImageDataGenerator(\n",
        "    rotation_range = 20,\n",
        "    zoom_range = 20\n",
        ")\n",
        "datagenerator13 = ImageDataGenerator(\n",
        "    rotation_range = 20,\n",
        "    horizontal_flip = True\n",
        ")\n",
        "datagenerator14 = ImageDataGenerator(\n",
        "    rotation_range = 20,\n",
        "    vertical_flip = True\n",
        ")\n",
        "datagenerator15 = ImageDataGenerator(\n",
        "    rotation_range = 20,\n",
        "    preprocessing_function = True\n",
        ")\n",
        "datagenerator16 = ImageDataGenerator(\n",
        "    width_shift_range = 0.2,\n",
        "    height_shift_range = 0.2\n",
        ")\n",
        "datagenerator17 = ImageDataGenerator(\n",
        "    width_shift_range = 0.2,\n",
        "    brightness_range = (0.2, 0.7)\n",
        ")\n",
        "datagenerator18 = ImageDataGenerator(\n",
        "    width_shift_range = 0.2,\n",
        "    zoom_range = 20\n",
        ")\n",
        "datagenerator19 = ImageDataGenerator(\n",
        "    width_shift_range = 0.2,\n",
        "    horizontal_flip = True\n",
        ")\n",
        "datagenerator20 = ImageDataGenerator(\n",
        "    width_shift_range = 0.2,\n",
        "    vertical_flip = True\n",
        ")\n",
        "datagenerator21 = ImageDataGenerator(\n",
        "    width_shift_range = 0.2,\n",
        "    preprocessing_function = True\n",
        ")\n",
        "datagenerator22 = ImageDataGenerator(\n",
        "    height_shift_range = 0.2,\n",
        "    brightness_range = (0.2, 0.7)\n",
        ")\n",
        "datagenerator23 = ImageDataGenerator(\n",
        "    height_shift_range = 0.2,\n",
        "    zoom_range = 20\n",
        ")\n",
        "datagenerator24 = ImageDataGenerator(\n",
        "    height_shift_range = 0.2,\n",
        "    horizontal_flip = True\n",
        ")\n",
        "datagenerator25 = ImageDataGenerator(\n",
        "    height_shift_range = 0.2,\n",
        "    vertical_flip = True\n",
        ")\n",
        "datagenerator26 = ImageDataGenerator(\n",
        "    height_shift_range = 0.2,\n",
        "    preprocessing_function = True\n",
        ")\n",
        "datagenerator27 = ImageDataGenerator(\n",
        "    brightness_range = (0.2, 0.7),\n",
        "    zoom_range = 20\n",
        ")\n",
        "datagenerator28 = ImageDataGenerator(\n",
        "    brightness_range = (0.2, 0.7),\n",
        "    horizontal_flip = True\n",
        ")\n",
        "datagenerator29 = ImageDataGenerator(\n",
        "    brightness_range = (0.2, 0.7),\n",
        "    vertical_flip = True\n",
        ")\n",
        "datagenerator30 = ImageDataGenerator(\n",
        "    brightness_range = (0.2, 0.7),\n",
        "    preprocessing_function = True\n",
        ")\n",
        "datagenerator31 = ImageDataGenerator(\n",
        "    zoom_range = 20,\n",
        "    horizontal_flip = True\n",
        ")\n",
        "datagenerator32 = ImageDataGenerator(\n",
        "    zoom_range = 20,\n",
        "    vertical_flip = True\n",
        ")\n",
        "datagenerator33 = ImageDataGenerator(\n",
        "    zoom_range = 20,\n",
        "    preprocessing_function = True\n",
        ")\n",
        "datagenerator34 = ImageDataGenerator(\n",
        "    horizontal_flip = True,\n",
        "    vertical_flip = True\n",
        ")\n",
        "datagenerator35 = ImageDataGenerator(\n",
        "    horizontal_flip = True,\n",
        "    preprocessing_function = True\n",
        ")\n",
        "datagenerator36 = ImageDataGenerator(\n",
        "    vertical_flip = True,\n",
        "    preprocessing_function = True\n",
        ")\n",
        "datagenerator37 = ImageDataGenerator(\n",
        "    rotation_range = 20,\n",
        "    width_shift_range = 0.2,\n",
        "    height_shift_range = 0.2\n",
        ")\n",
        "datagenerator38 = ImageDataGenerator(\n",
        "    rotation_range = 20,\n",
        "    width_shift_range = 0.2,\n",
        "    brightness_range = (0.2, 0.7)\n",
        ")\n",
        "datagenerator39 = ImageDataGenerator(\n",
        "    rotation_range = 20,\n",
        "    width_shift_range = 0.2,\n",
        "    zoom_range = 20\n",
        ")\n",
        "datagenerator40 = ImageDataGenerator(\n",
        "    rotation_range = 20,\n",
        "    width_shift_range = 0.2,\n",
        "    horizontal_flip = True\n",
        ")\n",
        "datagenerator41 = ImageDataGenerator(\n",
        "    rotation_range = 20,\n",
        "    width_shift_range = 0.2,\n",
        "    vertical_flip = True\n",
        ")\n",
        "datagenerator42 = ImageDataGenerator(\n",
        "    rotation_range = 20,\n",
        "    width_shift_range = 0.2,\n",
        "    preprocessing_function = True\n",
        ")\n",
        "datagenerator43 = ImageDataGenerator(\n",
        "    rotation_range = 20,\n",
        "    height_shift_range = 0.2,\n",
        "    brightness_range = (0.2, 0.7)\n",
        ")\n",
        "datagenerator44 = ImageDataGenerator(\n",
        "    rotation_range = 20,\n",
        "    height_shift_range = 0.2,\n",
        "    zoom_range = 20\n",
        ")\n",
        "datagenerator45 = ImageDataGenerator(\n",
        "    rotation_range = 20,\n",
        "    height_shift_range = 0.2,\n",
        "    horizontal_flip = True\n",
        ")\n",
        "datagenerator46 = ImageDataGenerator(\n",
        "    rotation_range = 20,\n",
        "    height_shift_range = 0.2,\n",
        "    vertical_flip = True\n",
        ")\n",
        "datagenerator47 = ImageDataGenerator(\n",
        "    rotation_range = 20,\n",
        "    height_shift_range = 0.2,\n",
        "    preprocessing_function = True\n",
        ")\n",
        "datagenerator48 = ImageDataGenerator(\n",
        "    rotation_range = 20,\n",
        "    brightness_range = (0.2, 0.7),\n",
        "    zoom_range = 20\n",
        ")\n",
        "datagenerator49 = ImageDataGenerator(\n",
        "    rotation_range = 20,\n",
        "    brightness_range = (0.2, 0.7),\n",
        "    horizontal_flip = True\n",
        ")\n",
        "datagenerator50 = ImageDataGenerator(\n",
        "    rotation_range = 20,\n",
        "    brightness_range = (0.2, 0.7),\n",
        "    vertical_flip = True\n",
        ")\n",
        "datagenerator51 = ImageDataGenerator(\n",
        "    rotation_range = 20,\n",
        "    brightness_range = (0.2, 0.7),\n",
        "    preprocessing_function = True\n",
        ")\n",
        "\n",
        "augmentation_x = next(iter(datagenerator1.flow(x_train)))\n",
        "augmentation_x = np.append(augmentation_x, next(iter(datagenerator2.flow(x_train))), axis = 0)\n",
        "augmentation_x = np.append(augmentation_x, next(iter(datagenerator3.flow(x_train))), axis = 0)\n",
        "augmentation_x = np.append(augmentation_x, next(iter(datagenerator4.flow(x_train))), axis = 0)\n",
        "augmentation_x = np.append(augmentation_x, next(iter(datagenerator5.flow(x_train))), axis = 0)\n",
        "augmentation_x = np.append(augmentation_x, next(iter(datagenerator6.flow(x_train))), axis = 0)\n",
        "augmentation_x = np.append(augmentation_x, next(iter(datagenerator7.flow(x_train))), axis = 0)\n",
        "augmentation_x = np.append(augmentation_x, next(iter(datagenerator8.flow(x_train))), axis = 0)\n",
        "augmentation_x = np.append(augmentation_x, next(iter(datagenerator9.flow(x_train))), axis = 0)\n",
        "augmentation_x = np.append(augmentation_x, next(iter(datagenerator10.flow(x_train))), axis = 0)\n",
        "augmentation_x = np.append(augmentation_x, next(iter(datagenerator11.flow(x_train))), axis = 0)\n",
        "augmentation_x = np.append(augmentation_x, next(iter(datagenerator12.flow(x_train))), axis = 0)\n",
        "augmentation_x = np.append(augmentation_x, next(iter(datagenerator13.flow(x_train))), axis = 0)\n",
        "augmentation_x = np.append(augmentation_x, next(iter(datagenerator14.flow(x_train))), axis = 0)\n",
        "augmentation_x = np.append(augmentation_x, next(iter(datagenerator15.flow(x_train))), axis = 0)\n",
        "augmentation_x = np.append(augmentation_x, next(iter(datagenerator16.flow(x_train))), axis = 0)\n",
        "augmentation_x = np.append(augmentation_x, next(iter(datagenerator17.flow(x_train))), axis = 0)\n",
        "augmentation_x = np.append(augmentation_x, next(iter(datagenerator18.flow(x_train))), axis = 0)\n",
        "augmentation_x = np.append(augmentation_x, next(iter(datagenerator19.flow(x_train))), axis = 0)\n",
        "augmentation_x = np.append(augmentation_x, next(iter(datagenerator20.flow(x_train))), axis = 0)\n",
        "augmentation_x = np.append(augmentation_x, next(iter(datagenerator21.flow(x_train))), axis = 0)\n",
        "augmentation_x = np.append(augmentation_x, next(iter(datagenerator22.flow(x_train))), axis = 0)\n",
        "augmentation_x = np.append(augmentation_x, next(iter(datagenerator23.flow(x_train))), axis = 0)\n",
        "augmentation_x = np.append(augmentation_x, next(iter(datagenerator24.flow(x_train))), axis = 0)\n",
        "augmentation_x = np.append(augmentation_x, next(iter(datagenerator25.flow(x_train))), axis = 0)\n",
        "augmentation_x = np.append(augmentation_x, next(iter(datagenerator26.flow(x_train))), axis = 0)\n",
        "augmentation_x = np.append(augmentation_x, next(iter(datagenerator27.flow(x_train))), axis = 0)\n",
        "augmentation_x = np.append(augmentation_x, next(iter(datagenerator28.flow(x_train))), axis = 0)\n",
        "augmentation_x = np.append(augmentation_x, next(iter(datagenerator29.flow(x_train))), axis = 0)\n",
        "augmentation_x = np.append(augmentation_x, next(iter(datagenerator30.flow(x_train))), axis = 0)\n",
        "augmentation_x = np.append(augmentation_x, next(iter(datagenerator31.flow(x_train))), axis = 0)\n",
        "augmentation_x = np.append(augmentation_x, next(iter(datagenerator32.flow(x_train))), axis = 0)\n",
        "augmentation_x = np.append(augmentation_x, next(iter(datagenerator33.flow(x_train))), axis = 0)\n",
        "augmentation_x = np.append(augmentation_x, next(iter(datagenerator34.flow(x_train))), axis = 0)\n",
        "augmentation_x = np.append(augmentation_x, next(iter(datagenerator35.flow(x_train))), axis = 0)\n",
        "augmentation_x = np.append(augmentation_x, next(iter(datagenerator36.flow(x_train))), axis = 0)\n",
        "augmentation_x = np.append(augmentation_x, next(iter(datagenerator37.flow(x_train))), axis = 0)\n",
        "augmentation_x = np.append(augmentation_x, next(iter(datagenerator38.flow(x_train))), axis = 0)\n",
        "augmentation_x = np.append(augmentation_x, next(iter(datagenerator39.flow(x_train))), axis = 0)\n",
        "augmentation_x = np.append(augmentation_x, next(iter(datagenerator40.flow(x_train))), axis = 0)\n",
        "augmentation_x = np.append(augmentation_x, next(iter(datagenerator41.flow(x_train))), axis = 0)\n",
        "augmentation_x = np.append(augmentation_x, next(iter(datagenerator42.flow(x_train))), axis = 0)\n",
        "augmentation_x = np.append(augmentation_x, next(iter(datagenerator43.flow(x_train))), axis = 0)\n",
        "augmentation_x = np.append(augmentation_x, next(iter(datagenerator44.flow(x_train))), axis = 0)\n",
        "augmentation_x = np.append(augmentation_x, next(iter(datagenerator45.flow(x_train))), axis = 0)\n",
        "augmentation_x = np.append(augmentation_x, next(iter(datagenerator46.flow(x_train))), axis = 0)\n",
        "augmentation_x = np.append(augmentation_x, next(iter(datagenerator47.flow(x_train))), axis = 0)\n",
        "augmentation_x = np.append(augmentation_x, next(iter(datagenerator48.flow(x_train))), axis = 0)\n",
        "augmentation_x = np.append(augmentation_x, next(iter(datagenerator49.flow(x_train))), axis = 0)\n",
        "augmentation_x = np.append(augmentation_x, next(iter(datagenerator50.flow(x_train))), axis = 0)\n",
        "augmentation_x = np.append(augmentation_x, next(iter(datagenerator51.flow(x_train))), axis = 0)\n",
        "\n",
        "y_train = np.insert(y_train, 0, y_train)\n",
        "y_train = np.insert(y_train, 0, y_train)\n",
        "y_train = np.insert(y_train, 0, y_train)\n",
        "y_train = np.insert(y_train, 0, y_train)\n",
        "y_train = np.insert(y_train, 0, y_train)\n",
        "y_train = np.insert(y_train, 0, y_train)\n",
        "y_train = np.insert(y_train, 0, y_train)\n",
        "y_train = np.insert(y_train, 0, y_train)\n",
        "y_train = np.insert(y_train, 0, y_train)\n",
        "y_train = np.insert(y_train, 0, y_train)\n",
        "y_train = np.insert(y_train, 0, y_train)\n",
        "y_train = np.insert(y_train, 0, y_train)\n",
        "y_train = np.insert(y_train, 0, y_train)\n",
        "y_train = np.insert(y_train, 0, y_train)\n",
        "y_train = np.insert(y_train, 0, y_train)\n",
        "y_train = np.insert(y_train, 0, y_train)\n",
        "y_train = np.insert(y_train, 0, y_train)\n",
        "y_train = np.insert(y_train, 0, y_train)\n",
        "y_train = np.insert(y_train, 0, y_train)\n",
        "y_train = np.insert(y_train, 0, y_train)\n",
        "y_train = np.insert(y_train, 0, y_train)\n",
        "y_train = np.insert(y_train, 0, y_train)\n",
        "y_train = np.insert(y_train, 0, y_train)\n",
        "y_train = np.insert(y_train, 0, y_train)\n",
        "y_train = np.insert(y_train, 0, y_train)\n",
        "y_train = np.insert(y_train, 0, y_train)\n",
        "y_train = np.insert(y_train, 0, y_train)\n",
        "y_train = np.insert(y_train, 0, y_train)\n",
        "y_train = np.insert(y_train, 0, y_train)\n",
        "y_train = np.insert(y_train, 0, y_train)\n",
        "y_train = np.insert(y_train, 0, y_train)\n",
        "y_train = np.insert(y_train, 0, y_train)\n",
        "y_train = np.insert(y_train, 0, y_train)\n",
        "y_train = np.insert(y_train, 0, y_train)\n",
        "y_train = np.insert(y_train, 0, y_train)\n",
        "y_train = np.insert(y_train, 0, y_train)\n",
        "y_train = np.insert(y_train, 0, y_train)\n",
        "y_train = np.insert(y_train, 0, y_train)\n",
        "y_train = np.insert(y_train, 0, y_train)\n",
        "y_train = np.insert(y_train, 0, y_train)\n",
        "y_train = np.insert(y_train, 0, y_train)\n",
        "y_train = np.insert(y_train, 0, y_train)\n",
        "y_train = np.insert(y_train, 0, y_train)\n",
        "y_train = np.insert(y_train, 0, y_train)\n",
        "y_train = np.insert(y_train, 0, y_train)\n",
        "y_train = np.insert(y_train, 0, y_train)\n",
        "y_train = np.insert(y_train, 0, y_train)\n",
        "y_train = np.insert(y_train, 0, y_train)\n",
        "y_train = np.insert(y_train, 0, y_train)\n",
        "y_train = np.insert(y_train, 0, y_train)\n",
        "y_train = np.insert(y_train, 0, y_train)"
      ],
      "metadata": {
        "colab": {
          "base_uri": "https://localhost:8080/",
          "height": 475
        },
        "id": "0V2cBliIs65c",
        "outputId": "a4d6895d-4808-4db3-bf9c-a4b375d63315"
      },
      "execution_count": 12,
      "outputs": [
        {
          "output_type": "error",
          "ename": "ValueError",
          "evalue": "ignored",
          "traceback": [
            "\u001b[0;31m---------------------------------------------------------------------------\u001b[0m",
            "\u001b[0;31mValueError\u001b[0m                                Traceback (most recent call last)",
            "\u001b[0;32m<ipython-input-12-8a3377eaafe1>\u001b[0m in \u001b[0;36m<module>\u001b[0;34m\u001b[0m\n\u001b[1;32m      9\u001b[0m )\n\u001b[1;32m     10\u001b[0m datagenerator4 = ImageDataGenerator(\n\u001b[0;32m---> 11\u001b[0;31m     \u001b[0mbrightness_range\u001b[0m \u001b[0;34m=\u001b[0m \u001b[0;36m0.2\u001b[0m\u001b[0;34m\u001b[0m\u001b[0;34m\u001b[0m\u001b[0m\n\u001b[0m\u001b[1;32m     12\u001b[0m )\n\u001b[1;32m     13\u001b[0m datagenerator5 = ImageDataGenerator(\n",
            "\u001b[0;32m/usr/local/lib/python3.7/dist-packages/keras/preprocessing/image.py\u001b[0m in \u001b[0;36m__init__\u001b[0;34m(self, featurewise_center, samplewise_center, featurewise_std_normalization, samplewise_std_normalization, zca_whitening, zca_epsilon, rotation_range, width_shift_range, height_shift_range, brightness_range, shear_range, zoom_range, channel_shift_range, fill_mode, cval, horizontal_flip, vertical_flip, rescale, preprocessing_function, data_format, validation_split, interpolation_order, dtype)\u001b[0m\n\u001b[1;32m   1311\u001b[0m         raise ValueError(\n\u001b[1;32m   1312\u001b[0m             \u001b[0;34m'`brightness_range should be tuple or list of two floats. '\u001b[0m\u001b[0;34m\u001b[0m\u001b[0;34m\u001b[0m\u001b[0m\n\u001b[0;32m-> 1313\u001b[0;31m             'Received: %s' % (brightness_range,))\n\u001b[0m\u001b[1;32m   1314\u001b[0m     \u001b[0mself\u001b[0m\u001b[0;34m.\u001b[0m\u001b[0mbrightness_range\u001b[0m \u001b[0;34m=\u001b[0m \u001b[0mbrightness_range\u001b[0m\u001b[0;34m\u001b[0m\u001b[0;34m\u001b[0m\u001b[0m\n\u001b[1;32m   1315\u001b[0m \u001b[0;34m\u001b[0m\u001b[0m\n",
            "\u001b[0;31mValueError\u001b[0m: `brightness_range should be tuple or list of two floats. Received: 0.2"
          ]
        }
      ]
    },
    {
      "cell_type": "code",
      "source": [
        "plt.imshow(np.squeeze(x_train[0]), 'gray')"
      ],
      "metadata": {
        "colab": {
          "base_uri": "https://localhost:8080/",
          "height": 284
        },
        "id": "3ZrYOMVjt_7c",
        "outputId": "9c13129b-6cf8-401e-f6bf-7a57c069115d"
      },
      "execution_count": 65,
      "outputs": [
        {
          "output_type": "execute_result",
          "data": {
            "text/plain": [
              "<matplotlib.image.AxesImage at 0x7fe29ccbea10>"
            ]
          },
          "metadata": {},
          "execution_count": 65
        },
        {
          "output_type": "display_data",
          "data": {
            "text/plain": [
              "<Figure size 432x288 with 1 Axes>"
            ],
            "image/png": "[encoded data removed]"
          },
          "metadata": {
            "needs_background": "light"
          }
        }
      ]
    },
    {
      "cell_type": "code",
      "source": [
        "x_test.shape"
      ],
      "metadata": {
        "colab": {
          "base_uri": "https://localhost:8080/"
        },
        "id": "ekSHagfOvn2c",
        "outputId": "2ea9341b-37f7-4824-fcd9-7532cee09927"
      },
      "execution_count": 67,
      "outputs": [
        {
          "output_type": "execute_result",
          "data": {
            "text/plain": [
              "(20, 28, 28, 1)"
            ]
          },
          "metadata": {},
          "execution_count": 67
        }
      ]
    },
    {
      "cell_type": "code",
      "source": [
        "model.compile(optimizer='adam',\n",
        "             loss='sparse_categorical_crossentropy',\n",
        "             metrics=['accuracy'])\n",
        "history = model.fit(x_train, y_train, \n",
        "                    epochs=5, validation_split=0.25)"
      ],
      "metadata": {
        "colab": {
          "base_uri": "https://localhost:8080/"
        },
        "id": "lRAhjY5e38Gr",
        "outputId": "084766b7-c342-4cb2-b906-075add3233c5"
      },
      "execution_count": 68,
      "outputs": [
        {
          "output_type": "stream",
          "name": "stdout",
          "text": [
            "Epoch 1/5\n",
            "1/1 [==============================] - 2s 2s/step - loss: 0.0020 - accuracy: 1.0000 - val_loss: 0.0014 - val_accuracy: 1.0000\n",
            "Epoch 2/5\n",
            "1/1 [==============================] - 0s 153ms/step - loss: 1.3294e-04 - accuracy: 1.0000 - val_loss: 0.0011 - val_accuracy: 1.0000\n",
            "Epoch 3/5\n",
            "1/1 [==============================] - 0s 81ms/step - loss: 2.6025e-04 - accuracy: 1.0000 - val_loss: 8.6519e-04 - val_accuracy: 1.0000\n",
            "Epoch 4/5\n",
            "1/1 [==============================] - 0s 130ms/step - loss: 1.6744e-04 - accuracy: 1.0000 - val_loss: 6.9488e-04 - val_accuracy: 1.0000\n",
            "Epoch 5/5\n",
            "1/1 [==============================] - 0s 55ms/step - loss: 4.6089e-05 - accuracy: 1.0000 - val_loss: 5.8521e-04 - val_accuracy: 1.0000\n"
          ]
        }
      ]
    },
    {
      "cell_type": "markdown",
      "source": [
        "# 전이학습"
      ],
      "metadata": {
        "id": "SU0umQgMPoQO"
      }
    },
    {
      "cell_type": "code",
      "source": [
        "import tensorflow as tf\n",
        "import keras\n",
        "from keras.models import Sequential\n",
        "from keras.layers import Dense, Dropout, Flatten\n",
        "from keras.layers.convolutional import Conv2D, MaxPooling2D\n",
        "import numpy as np"
      ],
      "metadata": {
        "id": "uMSEhb-6Pvnq"
      },
      "execution_count": 1,
      "outputs": []
    },
    {
      "cell_type": "code",
      "source": [
        "from keras.applications.inception_v3 import InceptionV3\n",
        "pre_trained_model = InceptionV3(input_shape = (75, 75, 1),\n",
        "                                include_top = False,\n",
        "                                weights = None)"
      ],
      "metadata": {
        "id": "K7uzGAvJ4rKt"
      },
      "execution_count": 3,
      "outputs": []
    },
    {
      "cell_type": "code",
      "source": [
        "from skimage.transform import resize\n",
        "(x_train, y_train), (x_test, y_test) = keras.datasets.mnist.load_data()\n",
        "x_train_images = np.array([])\n",
        "y_train_images = np.array([])\n",
        "x_test_images = np.array([])\n",
        "y_test_images = np.array([])\n",
        "\n",
        "for i in range(60000) :\n",
        "  np.append(x_train_images, resize(x_train[i],(75, 75)))\n",
        "  np.append(y_train_images, resize(y_train[i],(75, 75)))\n",
        "\n",
        "for i in range(10000) :\n",
        "  np.append(x_test_images, resize(x_test[i],(75, 75)))\n",
        "  np.append(y_test_images, resize(y_test[i],(75, 75)))"
      ],
      "metadata": {
        "id": "faXqYLpxEAs7"
      },
      "execution_count": 5,
      "outputs": []
    },
    {
      "cell_type": "code",
      "source": [
        "from keras import models, layers\n",
        "last_layer = pre_trained_model.get_layer('mixed7')\n",
        "last_output = last_layer.output\n",
        "\n",
        "my_layer = layers.Flatten()(last_output)\n",
        "my_layer = layers.Dense(256, activation = 'relu')(my_layer)\n",
        "my_layer = layers.Dense(256, activation = 'relu')(my_layer)\n",
        "my_layer = layers.Dense(1, activation = 'sigmoid')(my_layer)"
      ],
      "metadata": {
        "id": "W9sALd_X5w5i"
      },
      "execution_count": 7,
      "outputs": []
    },
    {
      "cell_type": "code",
      "source": [
        "from keras.models import Model\n",
        "\n",
        "model = Model(pre_trained_model.input, my_layer)\n",
        "\n",
        "model.compile(optimizer = 'adam',\n",
        "              loss = 'mse',\n",
        "              metrics = ['accuracy'],\n",
        "              run_eagerly=True)"
      ],
      "metadata": {
        "id": "wCd2LbrA7GKU"
      },
      "execution_count": 13,
      "outputs": []
    },
    {
      "cell_type": "code",
      "source": [
        "history = model.fit(x_train_images, y_train_images, epochs = 100, shuffle = True)"
      ],
      "metadata": {
        "colab": {
          "base_uri": "https://localhost:8080/",
          "height": 443
        },
        "id": "_pFuQPhV7SqH",
        "outputId": "3e470c2c-5911-4d76-f263-8ea8a8d70a59"
      },
      "execution_count": 14,
      "outputs": [
        {
          "output_type": "stream",
          "name": "stdout",
          "text": [
            "Epoch 1/100\n"
          ]
        },
        {
          "output_type": "error",
          "ename": "ValueError",
          "evalue": "ignored",
          "traceback": [
            "\u001b[0;31m---------------------------------------------------------------------------\u001b[0m",
            "\u001b[0;31mValueError\u001b[0m                                Traceback (most recent call last)",
            "\u001b[0;32m<ipython-input-14-231b7c99f6c0>\u001b[0m in \u001b[0;36m<module>\u001b[0;34m\u001b[0m\n\u001b[0;32m----> 1\u001b[0;31m \u001b[0mhistory\u001b[0m \u001b[0;34m=\u001b[0m \u001b[0mmodel\u001b[0m\u001b[0;34m.\u001b[0m\u001b[0mfit\u001b[0m\u001b[0;34m(\u001b[0m\u001b[0mx_train_images\u001b[0m\u001b[0;34m,\u001b[0m \u001b[0my_train_images\u001b[0m\u001b[0;34m,\u001b[0m \u001b[0mepochs\u001b[0m \u001b[0;34m=\u001b[0m \u001b[0;36m100\u001b[0m\u001b[0;34m,\u001b[0m \u001b[0mshuffle\u001b[0m \u001b[0;34m=\u001b[0m \u001b[0;32mTrue\u001b[0m\u001b[0;34m)\u001b[0m\u001b[0;34m\u001b[0m\u001b[0;34m\u001b[0m\u001b[0m\n\u001b[0m",
            "\u001b[0;32m/usr/local/lib/python3.7/dist-packages/keras/utils/traceback_utils.py\u001b[0m in \u001b[0;36merror_handler\u001b[0;34m(*args, **kwargs)\u001b[0m\n\u001b[1;32m     65\u001b[0m     \u001b[0;32mexcept\u001b[0m \u001b[0mException\u001b[0m \u001b[0;32mas\u001b[0m \u001b[0me\u001b[0m\u001b[0;34m:\u001b[0m  \u001b[0;31m# pylint: disable=broad-except\u001b[0m\u001b[0;34m\u001b[0m\u001b[0;34m\u001b[0m\u001b[0m\n\u001b[1;32m     66\u001b[0m       \u001b[0mfiltered_tb\u001b[0m \u001b[0;34m=\u001b[0m \u001b[0m_process_traceback_frames\u001b[0m\u001b[0;34m(\u001b[0m\u001b[0me\u001b[0m\u001b[0;34m.\u001b[0m\u001b[0m__traceback__\u001b[0m\u001b[0;34m)\u001b[0m\u001b[0;34m\u001b[0m\u001b[0;34m\u001b[0m\u001b[0m\n\u001b[0;32m---> 67\u001b[0;31m       \u001b[0;32mraise\u001b[0m \u001b[0me\u001b[0m\u001b[0;34m.\u001b[0m\u001b[0mwith_traceback\u001b[0m\u001b[0;34m(\u001b[0m\u001b[0mfiltered_tb\u001b[0m\u001b[0;34m)\u001b[0m \u001b[0;32mfrom\u001b[0m \u001b[0;32mNone\u001b[0m\u001b[0;34m\u001b[0m\u001b[0;34m\u001b[0m\u001b[0m\n\u001b[0m\u001b[1;32m     68\u001b[0m     \u001b[0;32mfinally\u001b[0m\u001b[0;34m:\u001b[0m\u001b[0;34m\u001b[0m\u001b[0;34m\u001b[0m\u001b[0m\n\u001b[1;32m     69\u001b[0m       \u001b[0;32mdel\u001b[0m \u001b[0mfiltered_tb\u001b[0m\u001b[0;34m\u001b[0m\u001b[0;34m\u001b[0m\u001b[0m\n",
            "\u001b[0;32m/usr/local/lib/python3.7/dist-packages/keras/engine/training.py\u001b[0m in \u001b[0;36mfit\u001b[0;34m(self, x, y, batch_size, epochs, verbose, callbacks, validation_split, validation_data, shuffle, class_weight, sample_weight, initial_epoch, steps_per_epoch, validation_steps, validation_batch_size, validation_freq, max_queue_size, workers, use_multiprocessing)\u001b[0m\n\u001b[1;32m   1418\u001b[0m         \u001b[0mlogs\u001b[0m \u001b[0;34m=\u001b[0m \u001b[0mtf_utils\u001b[0m\u001b[0;34m.\u001b[0m\u001b[0msync_to_numpy_or_python_type\u001b[0m\u001b[0;34m(\u001b[0m\u001b[0mlogs\u001b[0m\u001b[0;34m)\u001b[0m\u001b[0;34m\u001b[0m\u001b[0;34m\u001b[0m\u001b[0m\n\u001b[1;32m   1419\u001b[0m         \u001b[0;32mif\u001b[0m \u001b[0mlogs\u001b[0m \u001b[0;32mis\u001b[0m \u001b[0;32mNone\u001b[0m\u001b[0;34m:\u001b[0m\u001b[0;34m\u001b[0m\u001b[0;34m\u001b[0m\u001b[0m\n\u001b[0;32m-> 1420\u001b[0;31m           raise ValueError('Unexpected result of `train_function` '\n\u001b[0m\u001b[1;32m   1421\u001b[0m                            \u001b[0;34m'(Empty logs). Please use '\u001b[0m\u001b[0;34m\u001b[0m\u001b[0;34m\u001b[0m\u001b[0m\n\u001b[1;32m   1422\u001b[0m                            \u001b[0;34m'`Model.compile(..., run_eagerly=True)`, or '\u001b[0m\u001b[0;34m\u001b[0m\u001b[0;34m\u001b[0m\u001b[0m\n",
            "\u001b[0;31mValueError\u001b[0m: Unexpected result of `train_function` (Empty logs). Please use `Model.compile(..., run_eagerly=True)`, or `tf.config.run_functions_eagerly(True)` for more information of where went wrong, or file a issue/bug to `tf.keras`."
          ]
        }
      ]
    },
    {
      "cell_type": "code",
      "source": [],
      "metadata": {
        "id": "S8YwvnW7710D"
      },
      "execution_count": null,
      "outputs": []
    },
    {
      "cell_type": "code",
      "source": [
        "plt.plot(history.history['accuracy'], 'r-')"
      ],
      "metadata": {
        "id": "rS8KHUDI773v"
      },
      "execution_count": null,
      "outputs": []
    },
    {
      "cell_type": "code",
      "source": [
        "test_loss, test_acc = model.evaluate(x_test_images, y_test_images, verbose=2)\n",
        "print('테스트 정확도 : ', test_acc)\n",
        "print('테스트 데이터의 손실값 : ', test_loss)"
      ],
      "metadata": {
        "id": "0WlEmv-97-NH"
      },
      "execution_count": null,
      "outputs": []
    }
  ]
}