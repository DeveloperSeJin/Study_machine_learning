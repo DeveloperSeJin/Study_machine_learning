{
  "nbformat": 4,
  "nbformat_minor": 0,
  "metadata": {
    "colab": {
      "provenance": [],
      "collapsed_sections": [],
      "include_colab_link": true
    },
    "kernelspec": {
      "name": "python3",
      "display_name": "Python 3"
    },
    "language_info": {
      "name": "python"
    }
  },
  "cells": [
    {
      "cell_type": "markdown",
      "metadata": {
        "id": "view-in-github",
        "colab_type": "text"
      },
      "source": [
        "<a href=\"https://colab.research.google.com/github/DeveloperSeJin/Chap04-2/blob/main/Chap04_2_ipynb%EC%9D%98_%EC%82%AC%EB%B3%B8.ipynb\" target=\"_parent\"><img src=\"https://colab.research.google.com/assets/colab-badge.svg\" alt=\"Open In Colab\"/></a>"
      ]
    },
    {
      "cell_type": "code",
      "execution_count": 1,
      "metadata": {
        "id": "IKLdoWqgyhgx"
      },
      "outputs": [],
      "source": [
        "import pandas as pd\n",
        "import numpy as np\n",
        "from sklearn import linear_model\n",
        "from sklearn.metrics import mean_squared_error as mse"
      ]
    },
    {
      "cell_type": "code",
      "source": [
        "index = pd.Series(['A','B','C','D','E','F','G'])\n",
        "horse_power = pd.Series([130, 250, 190, 300, 210, 220, 170])\n",
        "weight = pd.Series([1900, 2600, 2200, 2900, 2400, 2300, 2100])\n",
        "fuel = pd.Series([16.3, 10.2, 11.1, 7.1, 12.1, 13.2, 14.2])\n",
        "Fuel_Efficiency = pd.DataFrame({'index': index, '마력' : horse_power, '총중량' : weight, '연비' : fuel})\n",
        "print(Fuel_Efficiency)"
      ],
      "metadata": {
        "colab": {
          "base_uri": "https://localhost:8080/"
        },
        "id": "iithYfUAznIW",
        "outputId": "4f7e3e95-b9df-4019-92ac-3274f9fca38d"
      },
      "execution_count": 2,
      "outputs": [
        {
          "output_type": "stream",
          "name": "stdout",
          "text": [
            "  index   마력   총중량    연비\n",
            "0     A  130  1900  16.3\n",
            "1     B  250  2600  10.2\n",
            "2     C  190  2200  11.1\n",
            "3     D  300  2900   7.1\n",
            "4     E  210  2400  12.1\n",
            "5     F  220  2300  13.2\n",
            "6     G  170  2100  14.2\n"
          ]
        }
      ]
    },
    {
      "cell_type": "code",
      "source": [
        "x1= Fuel_Efficiency['마력'].to_numpy()\n",
        "x2=Fuel_Efficiency['총중량'].to_numpy()\n",
        "y=Fuel_Efficiency['연비'].to_numpy()"
      ],
      "metadata": {
        "id": "CIeZLSUq0ogk"
      },
      "execution_count": 3,
      "outputs": []
    },
    {
      "cell_type": "code",
      "source": [
        "x1 = x1[:, np.newaxis]\n",
        "x2 = x2[:, np.newaxis]\n",
        "X = np.c_[np.ones((x1.size, 1)),x1, x2]"
      ],
      "metadata": {
        "id": "mr52bmIV2_Oj"
      },
      "execution_count": 4,
      "outputs": []
    },
    {
      "cell_type": "code",
      "source": [
        "X"
      ],
      "metadata": {
        "colab": {
          "base_uri": "https://localhost:8080/"
        },
        "id": "M_NorcSfw2E1",
        "outputId": "29d072c2-2481-4408-8279-42abf966c7d7"
      },
      "execution_count": 5,
      "outputs": [
        {
          "output_type": "execute_result",
          "data": {
            "text/plain": [
              "array([[1.0e+00, 1.3e+02, 1.9e+03],\n",
              "       [1.0e+00, 2.5e+02, 2.6e+03],\n",
              "       [1.0e+00, 1.9e+02, 2.2e+03],\n",
              "       [1.0e+00, 3.0e+02, 2.9e+03],\n",
              "       [1.0e+00, 2.1e+02, 2.4e+03],\n",
              "       [1.0e+00, 2.2e+02, 2.3e+03],\n",
              "       [1.0e+00, 1.7e+02, 2.1e+03]])"
            ]
          },
          "metadata": {},
          "execution_count": 5
        }
      ]
    },
    {
      "cell_type": "code",
      "source": [
        "theta = np.linalg.inv(X.T.dot(X)).dot(X.T).dot(y)\n",
        "theta"
      ],
      "metadata": {
        "colab": {
          "base_uri": "https://localhost:8080/"
        },
        "id": "2Q-8qGrA51oz",
        "outputId": "3f3e231a-66ee-4e6e-8afd-63435a785b1a"
      },
      "execution_count": 6,
      "outputs": [
        {
          "output_type": "execute_result",
          "data": {
            "text/plain": [
              "array([ 3.06040541e+01, -6.89189189e-03, -7.31081081e-03])"
            ]
          },
          "metadata": {},
          "execution_count": 6
        }
      ]
    },
    {
      "cell_type": "code",
      "source": [
        "y_hat = theta[1] * x1 + theta[2] * x2 + theta[0]\n",
        "y_hat = np.concatenate(y_hat).tolist()\n",
        "y_hat = np.array(y_hat)\n",
        "y_hat"
      ],
      "metadata": {
        "id": "6rBOHwJet9Mt",
        "colab": {
          "base_uri": "https://localhost:8080/"
        },
        "outputId": "ccc4b656-a861-4963-bd29-fa3a9c1005e4"
      },
      "execution_count": 7,
      "outputs": [
        {
          "output_type": "execute_result",
          "data": {
            "text/plain": [
              "array([15.81756757,  9.87297297, 13.21081081,  7.33513514, 11.61081081,\n",
              "       12.27297297, 14.07972973])"
            ]
          },
          "metadata": {},
          "execution_count": 7
        }
      ]
    },
    {
      "cell_type": "code",
      "source": [
        "diff_square = (y_hat - y)**2\n",
        "e_mse = diff_square.sum() / len(y)\n",
        "e_mse"
      ],
      "metadata": {
        "colab": {
          "base_uri": "https://localhost:8080/"
        },
        "id": "RQl_D9Fuy6BM",
        "outputId": "63de40ae-9076-46af-97d7-6e3710305b2c"
      },
      "execution_count": 8,
      "outputs": [
        {
          "output_type": "execute_result",
          "data": {
            "text/plain": [
              "0.851949806949806"
            ]
          },
          "metadata": {},
          "execution_count": 8
        }
      ]
    },
    {
      "cell_type": "code",
      "source": [
        "print(\"계수 : [\", theta[1],theta[2],\"]\")\n",
        "print(\"절편 : \",theta[0])\n",
        "print(\"예측 점수 : \", e_mse)"
      ],
      "metadata": {
        "colab": {
          "base_uri": "https://localhost:8080/"
        },
        "id": "oA3KJRYKzC2S",
        "outputId": "cca5b664-260c-4b85-b46b-ca5dbc23d8f2"
      },
      "execution_count": 9,
      "outputs": [
        {
          "output_type": "stream",
          "name": "stdout",
          "text": [
            "계수 : [ -0.0068918918918915995 -0.007310810810811627 ]\n",
            "절편 :  30.604054054052725\n",
            "예측 점수 :  0.851949806949806\n"
          ]
        }
      ]
    },
    {
      "cell_type": "code",
      "source": [
        "print(\"270 마력 2500kg 자동차의 예상 연비 : \", 270 * theta[1] + 2500 * theta[2] + theta[0])"
      ],
      "metadata": {
        "colab": {
          "base_uri": "https://localhost:8080/"
        },
        "id": "3ENBEgUpFEYi",
        "outputId": "5cf41511-e9df-41e1-e842-be8605bd4bd9"
      },
      "execution_count": 10,
      "outputs": [
        {
          "output_type": "stream",
          "name": "stdout",
          "text": [
            "270 마력 2500kg 자동차의 예상 연비 :  10.466216216212924\n"
          ]
        }
      ]
    },
    {
      "cell_type": "code",
      "source": [
        "import numpy as np\n",
        "from sklearn import linear_model\n",
        "regr = linear_model.LinearRegression()\n",
        "\n",
        "import matplotlib.pyplot as plt\n",
        "import seaborn as sns\n",
        "import pandas as pd\n",
        "\n",
        "data = pd.DataFrame(\n",
        "    {\"power\": [130, 250, 190, 300, 210, 220, 170],\n",
        "     \"gross weight\": [1900, 2600, 2200, 2900, 2400, 2300, 2100],\n",
        "     \"mileage\": [16.3, 10.2, 11.1, 7.1, 12.1, 13.2, 14.2]})\n",
        "\n",
        "sns.pairplot(data)\n",
        "plt.show()\n"
      ],
      "metadata": {
        "id": "QkVVE-1rFrvq",
        "colab": {
          "base_uri": "https://localhost:8080/",
          "height": 550
        },
        "outputId": "63304be8-e6f7-4b59-dcfc-3d4f04656bef"
      },
      "execution_count": 17,
      "outputs": [
        {
          "output_type": "display_data",
          "data": {
            "text/plain": [
              "<Figure size 540x540 with 12 Axes>"
            ],
            "image/png": "[encoded data removed]"
          },
          "metadata": {
            "needs_background": "light"
          }
        }
      ]
    },
    {
      "cell_type": "code",
      "source": [],
      "metadata": {
        "id": "RVKPcPBelqyz"
      },
      "execution_count": null,
      "outputs": []
    }
  ]
}