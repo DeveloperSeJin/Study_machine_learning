{
  "nbformat": 4,
  "nbformat_minor": 0,
  "metadata": {
    "colab": {
      "provenance": [],
      "authorship_tag": "ABX9TyOlOEIGrSo8T9gWiUNOjzaT",
      "include_colab_link": true
    },
    "kernelspec": {
      "name": "python3",
      "display_name": "Python 3"
    },
    "language_info": {
      "name": "python"
    }
  },
  "cells": [
    {
      "cell_type": "markdown",
      "metadata": {
        "id": "view-in-github",
        "colab_type": "text"
      },
      "source": [
        "<a href=\"https://colab.research.google.com/github/DeveloperSeJin/Study_machine_learning/blob/main/Butterfly.ipynb\" target=\"_parent\"><img src=\"https://colab.research.google.com/assets/colab-badge.svg\" alt=\"Open In Colab\"/></a>"
      ]
    },
    {
      "cell_type": "code",
      "execution_count": 6,
      "metadata": {
        "colab": {
          "base_uri": "https://localhost:8080/"
        },
        "id": "833OdSd5pYAr",
        "outputId": "ce77b443-9042-4fff-8f2b-ba674813a0d5"
      },
      "outputs": [
        {
          "output_type": "stream",
          "name": "stdout",
          "text": [
            "Drive already mounted at /content/drive; to attempt to forcibly remount, call drive.mount(\"/content/drive\", force_remount=True).\n",
            "total 242913\n",
            "drwx------ 2 root root      4096 Nov 25 08:07  자격증\n",
            "-rw------- 1 root root       189 Sep 10 08:49  asdf.csv\n",
            "drwx------ 4 root root      4096 Dec  6 18:18  ButterflyIdentification\n",
            "-rw------- 1 root root         0 Dec  6 18:16 'Butterfly Identification'\n",
            "-rw------- 1 root root 236440032 Dec  6 18:23  ButterflyIdentification.zip\n",
            "-rw------- 1 root root       138 Sep 18 05:19  car.csv\n",
            "-rw------- 1 root root       135 Sep 23 15:09  CarEx.csv\n",
            "drwx------ 2 root root      4096 Sep  9 04:54 'Colab Notebooks'\n",
            "-rw------- 1 root root   8150901 Nov  7 22:25  custom_dataset.zip\n",
            "-rw------- 1 root root    417810 Nov 30 10:17 '주민번호 가린 버전.jpg'\n",
            "-rw------- 1 root root     71070 Sep  9 05:17  kobo.png\n",
            "-rw------- 1 root root    260611 Nov  6 11:48  구독인증.PNG\n",
            "-rw------- 1 root root   2580700 Dec  6 05:50  used_car.csv\n",
            "-rw------- 1 root root     88950 Sep 18 02:49  weather.csv\n",
            "-rw------- 1 root root    367776 Oct 30 15:40  wine.csv\n",
            "-rw------- 1 root root     84199 Nov  2 04:22  winequality-red.csv\n",
            "-rw------- 1 root root    264426 Nov  2 04:22  winequality-white.csv\n"
          ]
        }
      ],
      "source": [
        "from google.colab import drive\n",
        "drive.mount('/content/drive')\n",
        "import pandas as pd\n",
        "import seaborn as sns\n",
        "import matplotlib.pyplot as plt\n",
        "!ls ./drive/MyDrive -la"
      ]
    },
    {
      "cell_type": "code",
      "source": [
        "!unzip -qq ./drive/MyDrive/ButterflyIdentification.zip"
      ],
      "metadata": {
        "id": "VtA4s_4TqCUY"
      },
      "execution_count": 9,
      "outputs": []
    },
    {
      "cell_type": "code",
      "source": [
        "!ls"
      ],
      "metadata": {
        "colab": {
          "base_uri": "https://localhost:8080/"
        },
        "id": "j3zTNBWpryfu",
        "outputId": "97980fe5-bbff-4093-91a0-970fcbce3446"
      },
      "execution_count": 10,
      "outputs": [
        {
          "output_type": "stream",
          "name": "stdout",
          "text": [
            "drive  sample_data  test  Testing_set.csv  train  Training_set.csv\n"
          ]
        }
      ]
    },
    {
      "cell_type": "markdown",
      "source": [
        "### 이미지 불러오기"
      ],
      "metadata": {
        "id": "XjiayCQwsJmq"
      }
    },
    {
      "cell_type": "code",
      "source": [
        "train = \"./train\"\n",
        "test = \"./test\"\n",
        "labels = pd.read_csv('./Training_set.csv')\n",
        "labels_test=pd.read_csv('./Testing_set.csv')"
      ],
      "metadata": {
        "id": "tDoUiaCBrhFz"
      },
      "execution_count": 11,
      "outputs": []
    },
    {
      "cell_type": "code",
      "source": [
        "print(labels.shape)"
      ],
      "metadata": {
        "colab": {
          "base_uri": "https://localhost:8080/"
        },
        "id": "QqMnysGmr9H5",
        "outputId": "6a33f263-dac6-49c2-8b10-493ddc18f94e"
      },
      "execution_count": 12,
      "outputs": [
        {
          "output_type": "stream",
          "name": "stdout",
          "text": [
            "(6499, 2)\n"
          ]
        }
      ]
    },
    {
      "cell_type": "markdown",
      "source": [
        "\n",
        "\n",
        "*   train -> 학습시킬 이미지\n",
        "*   test -> 테스트 돌릴 이미지\n",
        "*   labels -> 학습이미지 레이블\n",
        "*   labels_test-> 테스트 이미지 레이블"
      ],
      "metadata": {
        "id": "xcPXFXngsL_p"
      }
    },
    {
      "cell_type": "code",
      "source": [],
      "metadata": {
        "id": "DKGXZZFIsGV6"
      },
      "execution_count": null,
      "outputs": []
    }
  ]
}