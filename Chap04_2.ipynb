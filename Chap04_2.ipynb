{
  "nbformat": 4,
  "nbformat_minor": 0,
  "metadata": {
    "colab": {
      "provenance": [],
      "collapsed_sections": []
    },
    "kernelspec": {
      "name": "python3",
      "display_name": "Python 3"
    },
    "language_info": {
      "name": "python"
    }
  },
  "cells": [
    {
      "cell_type": "code",
      "execution_count": 1,
      "metadata": {
        "id": "3RBSwN1E6oIa"
      },
      "outputs": [],
      "source": [
        "import pandas as pd\n",
        "import numpy as np\n",
        "from sklearn import linear_model\n",
        "from sklearn.metrics import mean_squared_error as mse\n",
        "import matplotlib.pyplot as plt\n",
        "import seaborn as sns"
      ]
    },
    {
      "cell_type": "code",
      "source": [
        "# dataset\n",
        "index       = pd.Series(['A','B','C','D','E','F','G'])\n",
        "horse_power = pd.Series([130, 250, 190, 300, 210, 220, 170])\n",
        "weight      = pd.Series([1900, 2600, 2200, 2900, 2400, 2300, 2100])\n",
        "fuel        = pd.Series([16.3, 10.2, 11.1, 7.1, 12.1, 13.2, 14.2])\n",
        "\n",
        "# dataframe 도출\n",
        "#power는 마력, gross weight는 총 중량, mileage는 연비\n",
        "Fuel_Efficiency = pd.DataFrame({'index': index, 'horse_power' : horse_power, 'weight' : weight, 'fuel' : fuel})\n",
        "print(Fuel_Efficiency)"
      ],
      "metadata": {
        "colab": {
          "base_uri": "https://localhost:8080/"
        },
        "id": "sgXiTgsxCs5d",
        "outputId": "98883a60-6157-4670-b1ad-4c04e8cb8c66"
      },
      "execution_count": 2,
      "outputs": [
        {
          "output_type": "stream",
          "name": "stdout",
          "text": [
            "  index  horse_power  weight  fuel\n",
            "0     A          130    1900  16.3\n",
            "1     B          250    2600  10.2\n",
            "2     C          190    2200  11.1\n",
            "3     D          300    2900   7.1\n",
            "4     E          210    2400  12.1\n",
            "5     F          220    2300  13.2\n",
            "6     G          170    2100  14.2\n"
          ]
        }
      ]
    },
    {
      "cell_type": "code",
      "source": [
        "# x값과 y값을 벡터로 변환\n",
        "\n",
        "x1  = Fuel_Efficiency['horse_power'].to_numpy()\n",
        "x2  = Fuel_Efficiency['weight'].to_numpy()\n",
        "y   = Fuel_Efficiency['fuel'].to_numpy()\n",
        "\n",
        "print(x1)\n",
        "print(x2)\n",
        "print(y)"
      ],
      "metadata": {
        "colab": {
          "base_uri": "https://localhost:8080/"
        },
        "id": "dl4VXLEZCuRp",
        "outputId": "23ddd508-0f6b-427e-b8dc-b534f2b5449f"
      },
      "execution_count": 3,
      "outputs": [
        {
          "output_type": "stream",
          "name": "stdout",
          "text": [
            "[130 250 190 300 210 220 170]\n",
            "[1900 2600 2200 2900 2400 2300 2100]\n",
            "[16.3 10.2 11.1  7.1 12.1 13.2 14.2]\n"
          ]
        }
      ]
    },
    {
      "cell_type": "code",
      "source": [
        "# 선형회귀모델의 입력형식에 맞게 각 벡터의 차원의 확장\n",
        "x1  = x1[:, np.newaxis]\n",
        "x2  = x2[:, np.newaxis]\n",
        "X   = np.c_[np.ones((x1.size, 1)), x1, x2] # 1 , x1, x2인 배열로 바꿈"
      ],
      "metadata": {
        "id": "lFmeIX_6Cv8o"
      },
      "execution_count": 4,
      "outputs": []
    },
    {
      "cell_type": "code",
      "source": [
        "# 위 연산을 통해 각 차원의 벡터가 3열로 바뀜\n",
        "X"
      ],
      "metadata": {
        "colab": {
          "base_uri": "https://localhost:8080/"
        },
        "id": "8_NvY9-RCyY6",
        "outputId": "32e9cb98-c4e5-4276-d43e-bf17c90d4078"
      },
      "execution_count": 5,
      "outputs": [
        {
          "output_type": "execute_result",
          "data": {
            "text/plain": [
              "array([[1.0e+00, 1.3e+02, 1.9e+03],\n",
              "       [1.0e+00, 2.5e+02, 2.6e+03],\n",
              "       [1.0e+00, 1.9e+02, 2.2e+03],\n",
              "       [1.0e+00, 3.0e+02, 2.9e+03],\n",
              "       [1.0e+00, 2.1e+02, 2.4e+03],\n",
              "       [1.0e+00, 2.2e+02, 2.3e+03],\n",
              "       [1.0e+00, 1.7e+02, 2.1e+03]])"
            ]
          },
          "metadata": {},
          "execution_count": 5
        }
      ]
    },
    {
      "cell_type": "code",
      "source": [
        "#정규방정식을 이용해 훈련\n",
        "theta = np.linalg.inv(X.T.dot(X)).dot(X.T).dot(y)\n",
        "theta"
      ],
      "metadata": {
        "colab": {
          "base_uri": "https://localhost:8080/"
        },
        "id": "GG9G5UAMCy1Y",
        "outputId": "d7c62f2b-a410-4fe7-9a02-a6eae76879d9"
      },
      "execution_count": 6,
      "outputs": [
        {
          "output_type": "execute_result",
          "data": {
            "text/plain": [
              "array([ 3.06040541e+01, -6.89189189e-03, -7.31081081e-03])"
            ]
          },
          "metadata": {},
          "execution_count": 6
        }
      ]
    },
    {
      "cell_type": "code",
      "source": [
        "#y_hat값을 도출\n",
        "y_hat = theta[1] * x1 + theta[2] * x2 + theta[0]\n",
        "y_hat = np.concatenate(y_hat).tolist()\n",
        "y_hat = np.array(y_hat)\n",
        "y_hat"
      ],
      "metadata": {
        "colab": {
          "base_uri": "https://localhost:8080/"
        },
        "id": "yiePVp8CC046",
        "outputId": "3d1b673b-3fae-4135-cb34-f63807e024e2"
      },
      "execution_count": 7,
      "outputs": [
        {
          "output_type": "execute_result",
          "data": {
            "text/plain": [
              "array([15.81756757,  9.87297297, 13.21081081,  7.33513514, 11.61081081,\n",
              "       12.27297297, 14.07972973])"
            ]
          },
          "metadata": {},
          "execution_count": 7
        }
      ]
    },
    {
      "cell_type": "code",
      "source": [
        "#오차(mse) 도출\n",
        "diff_square = (y_hat - y)**2 \n",
        "print(diff_square)\n",
        "e_mse = diff_square.sum() / len(y) # '원소 전체 합 / 벡터의 길이'\n",
        "print(e_mse)"
      ],
      "metadata": {
        "colab": {
          "base_uri": "https://localhost:8080/"
        },
        "id": "0dJEC6lJC84v",
        "outputId": "0fed7119-b84b-4b4d-c25f-f99a6f3220f8"
      },
      "execution_count": 8,
      "outputs": [
        {
          "output_type": "stream",
          "name": "stdout",
          "text": [
            "[0.23274105 0.10694668 4.45552228 0.05528853 0.23930606 0.85937911\n",
            " 0.01446494]\n",
            "0.851949806949806\n"
          ]
        }
      ]
    },
    {
      "cell_type": "code",
      "source": [
        "print(\"계수 : [\", theta[1], theta[2],\"]\")\n",
        "print(\"절편 : \", theta[0])\n",
        "print(\"예측 점수 : \", e_mse)"
      ],
      "metadata": {
        "colab": {
          "base_uri": "https://localhost:8080/"
        },
        "id": "ADWP_VKhC-lL",
        "outputId": "66655ebc-8b96-4eb2-ce42-54a0622220f6"
      },
      "execution_count": 9,
      "outputs": [
        {
          "output_type": "stream",
          "name": "stdout",
          "text": [
            "계수 : [ -0.0068918918918915995 -0.007310810810811627 ]\n",
            "절편 :  30.604054054052725\n",
            "예측 점수 :  0.851949806949806\n"
          ]
        }
      ]
    },
    {
      "cell_type": "code",
      "source": [
        "print(\"270 마력 2500kg 자동차의 예상 연비 : \", 270 * theta[1] + 2500 * theta[2] + theta[0])"
      ],
      "metadata": {
        "colab": {
          "base_uri": "https://localhost:8080/"
        },
        "id": "g4wBDFbFDA6b",
        "outputId": "e013a504-7d84-4a7b-8b6f-538bbc49d5e4"
      },
      "execution_count": 10,
      "outputs": [
        {
          "output_type": "stream",
          "name": "stdout",
          "text": [
            "270 마력 2500kg 자동차의 예상 연비 :  10.466216216212924\n"
          ]
        }
      ]
    },
    {
      "cell_type": "code",
      "source": [
        "# 선형회귀 모델 도출\n",
        "regr = linear_model.LinearRegression()\n",
        "\n",
        "sns.set(style = 'whitegrid')\n",
        "sns.pairplot(Fuel_Efficiency)\n",
        "plt.show()"
      ],
      "metadata": {
        "colab": {
          "base_uri": "https://localhost:8080/",
          "height": 548
        },
        "id": "xoVpUfOwCnt_",
        "outputId": "bc4bfda4-d442-4f50-b349-541b34ffc135"
      },
      "execution_count": 11,
      "outputs": [
        {
          "output_type": "display_data",
          "data": {
            "text/plain": [
              "<Figure size 540x540 with 12 Axes>"
            ],
            "image/png": "[encoded data removed]"
          },
          "metadata": {}
        }
      ]
    },
    {
      "cell_type": "code",
      "source": [
        "# 예측치(y_hat)와 오차(diff_squeare)를 추가한 dataframe\n",
        "resultset = pd.DataFrame(data = { 'index' : index, 'horse power' : horse_power, 'weight' : weight, 'fuel' : fuel, 'estimate' : y_hat, 'error' : diff_square})\n",
        "resultset.head()"
      ],
      "metadata": {
        "colab": {
          "base_uri": "https://localhost:8080/",
          "height": 206
        },
        "id": "s79MBwrCzABt",
        "outputId": "bfcfcd0a-16f8-4ed7-95c7-4cd763d6cb31"
      },
      "execution_count": 12,
      "outputs": [
        {
          "output_type": "execute_result",
          "data": {
            "text/plain": [
              "  index  horse power  weight  fuel   estimate     error\n",
              "0     A          130    1900  16.3  15.817568  0.232741\n",
              "1     B          250    2600  10.2   9.872973  0.106947\n",
              "2     C          190    2200  11.1  13.210811  4.455522\n",
              "3     D          300    2900   7.1   7.335135  0.055289\n",
              "4     E          210    2400  12.1  11.610811  0.239306"
            ],
            "text/html": [
              "\n",
              "  <div id=\"df-d83187da-b485-4645-8f30-48ceb3455488\">\n",
              "    <div class=\"colab-df-container\">\n",
              "      <div>\n",
              "<style scoped>\n",
              "    .dataframe tbody tr th:only-of-type {\n",
              "        vertical-align: middle;\n",
              "    }\n",
              "\n",
              "    .dataframe tbody tr th {\n",
              "        vertical-align: top;\n",
              "    }\n",
              "\n",
              "    .dataframe thead th {\n",
              "        text-align: right;\n",
              "    }\n",
              "</style>\n",
              "<table border=\"1\" class=\"dataframe\">\n",
              "  <thead>\n",
              "    <tr style=\"text-align: right;\">\n",
              "      <th></th>\n",
              "      <th>index</th>\n",
              "      <th>horse power</th>\n",
              "      <th>weight</th>\n",
              "      <th>fuel</th>\n",
              "      <th>estimate</th>\n",
              "      <th>error</th>\n",
              "    </tr>\n",
              "  </thead>\n",
              "  <tbody>\n",
              "    <tr>\n",
              "      <th>0</th>\n",
              "      <td>A</td>\n",
              "      <td>130</td>\n",
              "      <td>1900</td>\n",
              "      <td>16.3</td>\n",
              "      <td>15.817568</td>\n",
              "      <td>0.232741</td>\n",
              "    </tr>\n",
              "    <tr>\n",
              "      <th>1</th>\n",
              "      <td>B</td>\n",
              "      <td>250</td>\n",
              "      <td>2600</td>\n",
              "      <td>10.2</td>\n",
              "      <td>9.872973</td>\n",
              "      <td>0.106947</td>\n",
              "    </tr>\n",
              "    <tr>\n",
              "      <th>2</th>\n",
              "      <td>C</td>\n",
              "      <td>190</td>\n",
              "      <td>2200</td>\n",
              "      <td>11.1</td>\n",
              "      <td>13.210811</td>\n",
              "      <td>4.455522</td>\n",
              "    </tr>\n",
              "    <tr>\n",
              "      <th>3</th>\n",
              "      <td>D</td>\n",
              "      <td>300</td>\n",
              "      <td>2900</td>\n",
              "      <td>7.1</td>\n",
              "      <td>7.335135</td>\n",
              "      <td>0.055289</td>\n",
              "    </tr>\n",
              "    <tr>\n",
              "      <th>4</th>\n",
              "      <td>E</td>\n",
              "      <td>210</td>\n",
              "      <td>2400</td>\n",
              "      <td>12.1</td>\n",
              "      <td>11.610811</td>\n",
              "      <td>0.239306</td>\n",
              "    </tr>\n",
              "  </tbody>\n",
              "</table>\n",
              "</div>\n",
              "      <button class=\"colab-df-convert\" onclick=\"convertToInteractive('df-d83187da-b485-4645-8f30-48ceb3455488')\"\n",
              "              title=\"Convert this dataframe to an interactive table.\"\n",
              "              style=\"display:none;\">\n",
              "        \n",
              "  <svg xmlns=\"http://www.w3.org/2000/svg\" height=\"24px\"viewBox=\"0 0 24 24\"\n",
              "       width=\"24px\">\n",
              "    <path d=\"M0 0h24v24H0V0z\" fill=\"none\"/>\n",
              "    <path d=\"M18.56 5.44l.94 2.06.94-2.06 2.06-.94-2.06-.94-.94-2.06-.94 2.06-2.06.94zm-11 1L8.5 8.5l.94-2.06 2.06-.94-2.06-.94L8.5 2.5l-.94 2.06-2.06.94zm10 10l.94 2.06.94-2.06 2.06-.94-2.06-.94-.94-2.06-.94 2.06-2.06.94z\"/><path d=\"M17.41 7.96l-1.37-1.37c-.4-.4-.92-.59-1.43-.59-.52 0-1.04.2-1.43.59L10.3 9.45l-7.72 7.72c-.78.78-.78 2.05 0 2.83L4 21.41c.39.39.9.59 1.41.59.51 0 1.02-.2 1.41-.59l7.78-7.78 2.81-2.81c.8-.78.8-2.07 0-2.86zM5.41 20L4 18.59l7.72-7.72 1.47 1.35L5.41 20z\"/>\n",
              "  </svg>\n",
              "      </button>\n",
              "      \n",
              "  <style>\n",
              "    .colab-df-container {\n",
              "      display:flex;\n",
              "      flex-wrap:wrap;\n",
              "      gap: 12px;\n",
              "    }\n",
              "\n",
              "    .colab-df-convert {\n",
              "      background-color: #E8F0FE;\n",
              "      border: none;\n",
              "      border-radius: 50%;\n",
              "      cursor: pointer;\n",
              "      display: none;\n",
              "      fill: #1967D2;\n",
              "      height: 32px;\n",
              "      padding: 0 0 0 0;\n",
              "      width: 32px;\n",
              "    }\n",
              "\n",
              "    .colab-df-convert:hover {\n",
              "      background-color: #E2EBFA;\n",
              "      box-shadow: 0px 1px 2px rgba(60, 64, 67, 0.3), 0px 1px 3px 1px rgba(60, 64, 67, 0.15);\n",
              "      fill: #174EA6;\n",
              "    }\n",
              "\n",
              "    [theme=dark] .colab-df-convert {\n",
              "      background-color: #3B4455;\n",
              "      fill: #D2E3FC;\n",
              "    }\n",
              "\n",
              "    [theme=dark] .colab-df-convert:hover {\n",
              "      background-color: #434B5C;\n",
              "      box-shadow: 0px 1px 3px 1px rgba(0, 0, 0, 0.15);\n",
              "      filter: drop-shadow(0px 1px 2px rgba(0, 0, 0, 0.3));\n",
              "      fill: #FFFFFF;\n",
              "    }\n",
              "  </style>\n",
              "\n",
              "      <script>\n",
              "        const buttonEl =\n",
              "          document.querySelector('#df-d83187da-b485-4645-8f30-48ceb3455488 button.colab-df-convert');\n",
              "        buttonEl.style.display =\n",
              "          google.colab.kernel.accessAllowed ? 'block' : 'none';\n",
              "\n",
              "        async function convertToInteractive(key) {\n",
              "          const element = document.querySelector('#df-d83187da-b485-4645-8f30-48ceb3455488');\n",
              "          const dataTable =\n",
              "            await google.colab.kernel.invokeFunction('convertToInteractive',\n",
              "                                                     [key], {});\n",
              "          if (!dataTable) return;\n",
              "\n",
              "          const docLinkHtml = 'Like what you see? Visit the ' +\n",
              "            '<a target=\"_blank\" href=https://colab.research.google.com/notebooks/data_table.ipynb>data table notebook</a>'\n",
              "            + ' to learn more about interactive tables.';\n",
              "          element.innerHTML = '';\n",
              "          dataTable['output_type'] = 'display_data';\n",
              "          await google.colab.output.renderOutput(dataTable, element);\n",
              "          const docLink = document.createElement('div');\n",
              "          docLink.innerHTML = docLinkHtml;\n",
              "          element.appendChild(docLink);\n",
              "        }\n",
              "      </script>\n",
              "    </div>\n",
              "  </div>\n",
              "  "
            ]
          },
          "metadata": {},
          "execution_count": 12
        }
      ]
    },
    {
      "cell_type": "code",
      "source": [
        "# heatmap 출력\n",
        "sns.set(rc = {'figure.figsize' : (12,10)})\n",
        "correlation_matrix = resultset.corr().round(2)\n",
        "sns.heatmap(data = correlation_matrix, annot = True)"
      ],
      "metadata": {
        "colab": {
          "base_uri": "https://localhost:8080/",
          "height": 616
        },
        "id": "fZOz5oCQ0QVZ",
        "outputId": "26aabc5a-e24f-4fa8-d7c2-94211395ad6b"
      },
      "execution_count": 13,
      "outputs": [
        {
          "output_type": "execute_result",
          "data": {
            "text/plain": [
              "<matplotlib.axes._subplots.AxesSubplot at 0x7fe873fac190>"
            ]
          },
          "metadata": {},
          "execution_count": 13
        },
        {
          "output_type": "display_data",
          "data": {
            "text/plain": [
              "<Figure size 864x720 with 2 Axes>"
            ],
            "image/png": "[encoded data removed]"
          },
          "metadata": {}
        }
      ]
    }
  ]
}