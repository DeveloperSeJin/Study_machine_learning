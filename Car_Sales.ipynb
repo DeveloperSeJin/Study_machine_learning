{
  "nbformat": 4,
  "nbformat_minor": 0,
  "metadata": {
    "colab": {
      "provenance": [],
      "mount_file_id": "1HirjNqPNb4lCuuDwfCiNmMtoiL2-42VX",
      "authorship_tag": "ABX9TyP9O36CH3EYQc/YZ03cdjET",
      "include_colab_link": true
    },
    "kernelspec": {
      "name": "python3",
      "display_name": "Python 3"
    },
    "language_info": {
      "name": "python"
    }
  },
  "cells": [
    {
      "cell_type": "markdown",
      "metadata": {
        "id": "view-in-github",
        "colab_type": "text"
      },
      "source": [
        "<a href=\"https://colab.research.google.com/github/DeveloperSeJin/Study_machine_learning/blob/main/Car_Sales.ipynb\" target=\"_parent\"><img src=\"https://colab.research.google.com/assets/colab-badge.svg\" alt=\"Open In Colab\"/></a>"
      ]
    },
    {
      "cell_type": "code",
      "execution_count": 52,
      "metadata": {
        "id": "Wk_xroiYaUWR"
      },
      "outputs": [],
      "source": [
        "import pandas as pd\n",
        "import seaborn as sns\n",
        "import matplotlib.pyplot as plt\n",
        "data = pd.read_csv(\"/content/drive/MyDrive/기계학습/ml _data/data.csv\", index_col = \"price_in_aed\")"
      ]
    },
    {
      "cell_type": "code",
      "source": [
        "data"
      ],
      "metadata": {
        "colab": {
          "base_uri": "https://localhost:8080/",
          "height": 970
        },
        "id": "nkeobLzAa5GL",
        "outputId": "f73d7230-3d0c-49bb-8b33-bd5eacf92e4f"
      },
      "execution_count": 53,
      "outputs": [
        {
          "output_type": "execute_result",
          "data": {
            "text/plain": [
              "                                                          title  kilometers  \\\n",
              "price_in_aed                                                                  \n",
              "26,000                            MITSUBISHI PAJERO 3.5L / 2013      167390   \n",
              "110,000                                     chevrolet silverado       39000   \n",
              "78,000        MERCEDES-BENZ E300 - 2014 - GCC SPEC - FULL OP...      200000   \n",
              "899,000       WARRANTY UNTIL APR 2023 || Ferrari 488 Spider ...       27000   \n",
              "33,000                                 USED RENAULT DOKKER 2020       69000   \n",
              "...                                                         ...         ...   \n",
              "215,000       AED7525month | 2015 Land Rover Range Rover Aut...      105777   \n",
              "90,000                   LOW MILEAGE Cadillac Escalade Platinum       55640   \n",
              "679,000       WARRANTY AVAILABLE || Range Rover Sport SVR Ca...         100   \n",
              "18,900                               Chevrolet Malibu  GCC Spec      140000   \n",
              "77,700        LOW MILEAGE! PERFECT CONDITION! Jeep Wrangler ...       86000   \n",
              "\n",
              "                             body_condition    mechanical_condition  \\\n",
              "price_in_aed                                                          \n",
              "26,000               Perfect inside and out  Perfect inside and out   \n",
              "110,000              Perfect inside and out  Perfect inside and out   \n",
              "78,000               Perfect inside and out  Perfect inside and out   \n",
              "899,000              Perfect inside and out  Perfect inside and out   \n",
              "33,000               Perfect inside and out  Perfect inside and out   \n",
              "...                                     ...                     ...   \n",
              "215,000              Perfect inside and out  Perfect inside and out   \n",
              "90,000               Perfect inside and out  Perfect inside and out   \n",
              "679,000              Perfect inside and out  Perfect inside and out   \n",
              "18,900        No accidents, very few faults  Perfect inside and out   \n",
              "77,700               Perfect inside and out  Perfect inside and out   \n",
              "\n",
              "             seller_type             body_type no_of_cylinders  \\\n",
              "price_in_aed                                                     \n",
              "26,000            Dealer                   SUV               6   \n",
              "110,000           Dealer                   SUV               8   \n",
              "78,000            Dealer                 Sedan               6   \n",
              "899,000           Dealer  Hard Top Convertible               8   \n",
              "33,000             Owner                 Wagon               4   \n",
              "...                  ...                   ...             ...   \n",
              "215,000           Dealer                   SUV               8   \n",
              "90,000             Owner                   SUV               8   \n",
              "679,000           Dealer                   SUV               8   \n",
              "18,900             Owner                 Sedan               4   \n",
              "77,700            Dealer             Crossover               6   \n",
              "\n",
              "                   transmission_type        regional_specs        horsepower  \\\n",
              "price_in_aed                                                                   \n",
              "26,000        Automatic Transmission             GCC Specs           Unknown   \n",
              "110,000       Automatic Transmission  North American Specs      400 - 500 HP   \n",
              "78,000        Automatic Transmission             GCC Specs      400 - 500 HP   \n",
              "899,000       Automatic Transmission             GCC Specs      600 - 700 HP   \n",
              "33,000           Manual Transmission             GCC Specs  Less than 150 HP   \n",
              "...                              ...                   ...               ...   \n",
              "215,000       Automatic Transmission             GCC Specs      500 - 600 HP   \n",
              "90,000        Automatic Transmission             GCC Specs      400 - 500 HP   \n",
              "679,000       Automatic Transmission                 Other      400 - 500 HP   \n",
              "18,900        Automatic Transmission             GCC Specs      150 - 200 HP   \n",
              "77,700           Manual Transmission             GCC Specs      200 - 300 HP   \n",
              "\n",
              "             fuel_type   steering_side    year   color   emirate  \\\n",
              "price_in_aed                                                       \n",
              "26,000        Gasoline  Left Hand Side  2013.0  Silver     Dubai   \n",
              "110,000       Gasoline  Left Hand Side  2018.0   White   Sharjah   \n",
              "78,000        Gasoline  Left Hand Side  2014.0    Blue   Sharjah   \n",
              "899,000       Gasoline  Left Hand Side  2018.0     Red     Dubai   \n",
              "33,000        Gasoline  Left Hand Side  2020.0   White     Dubai   \n",
              "...                ...             ...     ...     ...       ...   \n",
              "215,000       Gasoline  Left Hand Side  2015.0   White     Dubai   \n",
              "90,000        Gasoline  Left Hand Side  2014.0   White     Dubai   \n",
              "679,000       Gasoline  Left Hand Side     NaN   Black     Dubai   \n",
              "18,900        Gasoline  Left Hand Side  2013.0   White     Dubai   \n",
              "77,700        Gasoline  Left Hand Side  2013.0  Orange     Dubai   \n",
              "\n",
              "                    motors_trim        company              model date_posted  \n",
              "price_in_aed                                                                   \n",
              "26,000                      GLS     mitsubishi             pajero  13/05/2022  \n",
              "110,000       1500 High Country      chevrolet          silverado  14/01/2022  \n",
              "78,000                    E 300  mercedes-benz            e-class  05/05/2022  \n",
              "899,000                Standard        ferrari         488-spider  30/04/2022  \n",
              "33,000                 Standard        renault             dokker  13/05/2022  \n",
              "...                         ...            ...                ...         ...  \n",
              "215,000           Autobiography     land-rover        range-rover  18/11/2021  \n",
              "90,000                 Platinum       cadillac           escalade  11/05/2022  \n",
              "679,000                     SVR     land-rover  range-rover-sport  14/12/2021  \n",
              "18,900                       LS      chevrolet             malibu  06/03/2022  \n",
              "77,700                   Sahara           jeep           wrangler  04/12/2021  \n",
              "\n",
              "[9970 rows x 19 columns]"
            ],
            "text/html": [
              "\n",
              "  <div id=\"df-3c28c7be-6f2c-4b29-b3ce-674e136ff05c\">\n",
              "    <div class=\"colab-df-container\">\n",
              "      <div>\n",
              "<style scoped>\n",
              "    .dataframe tbody tr th:only-of-type {\n",
              "        vertical-align: middle;\n",
              "    }\n",
              "\n",
              "    .dataframe tbody tr th {\n",
              "        vertical-align: top;\n",
              "    }\n",
              "\n",
              "    .dataframe thead th {\n",
              "        text-align: right;\n",
              "    }\n",
              "</style>\n",
              "<table border=\"1\" class=\"dataframe\">\n",
              "  <thead>\n",
              "    <tr style=\"text-align: right;\">\n",
              "      <th></th>\n",
              "      <th>title</th>\n",
              "      <th>kilometers</th>\n",
              "      <th>body_condition</th>\n",
              "      <th>mechanical_condition</th>\n",
              "      <th>seller_type</th>\n",
              "      <th>body_type</th>\n",
              "      <th>no_of_cylinders</th>\n",
              "      <th>transmission_type</th>\n",
              "      <th>regional_specs</th>\n",
              "      <th>horsepower</th>\n",
              "      <th>fuel_type</th>\n",
              "      <th>steering_side</th>\n",
              "      <th>year</th>\n",
              "      <th>color</th>\n",
              "      <th>emirate</th>\n",
              "      <th>motors_trim</th>\n",
              "      <th>company</th>\n",
              "      <th>model</th>\n",
              "      <th>date_posted</th>\n",
              "    </tr>\n",
              "    <tr>\n",
              "      <th>price_in_aed</th>\n",
              "      <th></th>\n",
              "      <th></th>\n",
              "      <th></th>\n",
              "      <th></th>\n",
              "      <th></th>\n",
              "      <th></th>\n",
              "      <th></th>\n",
              "      <th></th>\n",
              "      <th></th>\n",
              "      <th></th>\n",
              "      <th></th>\n",
              "      <th></th>\n",
              "      <th></th>\n",
              "      <th></th>\n",
              "      <th></th>\n",
              "      <th></th>\n",
              "      <th></th>\n",
              "      <th></th>\n",
              "      <th></th>\n",
              "    </tr>\n",
              "  </thead>\n",
              "  <tbody>\n",
              "    <tr>\n",
              "      <th>26,000</th>\n",
              "      <td>MITSUBISHI PAJERO 3.5L / 2013</td>\n",
              "      <td>167390</td>\n",
              "      <td>Perfect inside and out</td>\n",
              "      <td>Perfect inside and out</td>\n",
              "      <td>Dealer</td>\n",
              "      <td>SUV</td>\n",
              "      <td>6</td>\n",
              "      <td>Automatic Transmission</td>\n",
              "      <td>GCC Specs</td>\n",
              "      <td>Unknown</td>\n",
              "      <td>Gasoline</td>\n",
              "      <td>Left Hand Side</td>\n",
              "      <td>2013.0</td>\n",
              "      <td>Silver</td>\n",
              "      <td>Dubai</td>\n",
              "      <td>GLS</td>\n",
              "      <td>mitsubishi</td>\n",
              "      <td>pajero</td>\n",
              "      <td>13/05/2022</td>\n",
              "    </tr>\n",
              "    <tr>\n",
              "      <th>110,000</th>\n",
              "      <td>chevrolet silverado</td>\n",
              "      <td>39000</td>\n",
              "      <td>Perfect inside and out</td>\n",
              "      <td>Perfect inside and out</td>\n",
              "      <td>Dealer</td>\n",
              "      <td>SUV</td>\n",
              "      <td>8</td>\n",
              "      <td>Automatic Transmission</td>\n",
              "      <td>North American Specs</td>\n",
              "      <td>400 - 500 HP</td>\n",
              "      <td>Gasoline</td>\n",
              "      <td>Left Hand Side</td>\n",
              "      <td>2018.0</td>\n",
              "      <td>White</td>\n",
              "      <td>Sharjah</td>\n",
              "      <td>1500 High Country</td>\n",
              "      <td>chevrolet</td>\n",
              "      <td>silverado</td>\n",
              "      <td>14/01/2022</td>\n",
              "    </tr>\n",
              "    <tr>\n",
              "      <th>78,000</th>\n",
              "      <td>MERCEDES-BENZ E300 - 2014 - GCC SPEC - FULL OP...</td>\n",
              "      <td>200000</td>\n",
              "      <td>Perfect inside and out</td>\n",
              "      <td>Perfect inside and out</td>\n",
              "      <td>Dealer</td>\n",
              "      <td>Sedan</td>\n",
              "      <td>6</td>\n",
              "      <td>Automatic Transmission</td>\n",
              "      <td>GCC Specs</td>\n",
              "      <td>400 - 500 HP</td>\n",
              "      <td>Gasoline</td>\n",
              "      <td>Left Hand Side</td>\n",
              "      <td>2014.0</td>\n",
              "      <td>Blue</td>\n",
              "      <td>Sharjah</td>\n",
              "      <td>E 300</td>\n",
              "      <td>mercedes-benz</td>\n",
              "      <td>e-class</td>\n",
              "      <td>05/05/2022</td>\n",
              "    </tr>\n",
              "    <tr>\n",
              "      <th>899,000</th>\n",
              "      <td>WARRANTY UNTIL APR 2023 || Ferrari 488 Spider ...</td>\n",
              "      <td>27000</td>\n",
              "      <td>Perfect inside and out</td>\n",
              "      <td>Perfect inside and out</td>\n",
              "      <td>Dealer</td>\n",
              "      <td>Hard Top Convertible</td>\n",
              "      <td>8</td>\n",
              "      <td>Automatic Transmission</td>\n",
              "      <td>GCC Specs</td>\n",
              "      <td>600 - 700 HP</td>\n",
              "      <td>Gasoline</td>\n",
              "      <td>Left Hand Side</td>\n",
              "      <td>2018.0</td>\n",
              "      <td>Red</td>\n",
              "      <td>Dubai</td>\n",
              "      <td>Standard</td>\n",
              "      <td>ferrari</td>\n",
              "      <td>488-spider</td>\n",
              "      <td>30/04/2022</td>\n",
              "    </tr>\n",
              "    <tr>\n",
              "      <th>33,000</th>\n",
              "      <td>USED RENAULT DOKKER 2020</td>\n",
              "      <td>69000</td>\n",
              "      <td>Perfect inside and out</td>\n",
              "      <td>Perfect inside and out</td>\n",
              "      <td>Owner</td>\n",
              "      <td>Wagon</td>\n",
              "      <td>4</td>\n",
              "      <td>Manual Transmission</td>\n",
              "      <td>GCC Specs</td>\n",
              "      <td>Less than 150 HP</td>\n",
              "      <td>Gasoline</td>\n",
              "      <td>Left Hand Side</td>\n",
              "      <td>2020.0</td>\n",
              "      <td>White</td>\n",
              "      <td>Dubai</td>\n",
              "      <td>Standard</td>\n",
              "      <td>renault</td>\n",
              "      <td>dokker</td>\n",
              "      <td>13/05/2022</td>\n",
              "    </tr>\n",
              "    <tr>\n",
              "      <th>...</th>\n",
              "      <td>...</td>\n",
              "      <td>...</td>\n",
              "      <td>...</td>\n",
              "      <td>...</td>\n",
              "      <td>...</td>\n",
              "      <td>...</td>\n",
              "      <td>...</td>\n",
              "      <td>...</td>\n",
              "      <td>...</td>\n",
              "      <td>...</td>\n",
              "      <td>...</td>\n",
              "      <td>...</td>\n",
              "      <td>...</td>\n",
              "      <td>...</td>\n",
              "      <td>...</td>\n",
              "      <td>...</td>\n",
              "      <td>...</td>\n",
              "      <td>...</td>\n",
              "      <td>...</td>\n",
              "    </tr>\n",
              "    <tr>\n",
              "      <th>215,000</th>\n",
              "      <td>AED7525month | 2015 Land Rover Range Rover Aut...</td>\n",
              "      <td>105777</td>\n",
              "      <td>Perfect inside and out</td>\n",
              "      <td>Perfect inside and out</td>\n",
              "      <td>Dealer</td>\n",
              "      <td>SUV</td>\n",
              "      <td>8</td>\n",
              "      <td>Automatic Transmission</td>\n",
              "      <td>GCC Specs</td>\n",
              "      <td>500 - 600 HP</td>\n",
              "      <td>Gasoline</td>\n",
              "      <td>Left Hand Side</td>\n",
              "      <td>2015.0</td>\n",
              "      <td>White</td>\n",
              "      <td>Dubai</td>\n",
              "      <td>Autobiography</td>\n",
              "      <td>land-rover</td>\n",
              "      <td>range-rover</td>\n",
              "      <td>18/11/2021</td>\n",
              "    </tr>\n",
              "    <tr>\n",
              "      <th>90,000</th>\n",
              "      <td>LOW MILEAGE Cadillac Escalade Platinum</td>\n",
              "      <td>55640</td>\n",
              "      <td>Perfect inside and out</td>\n",
              "      <td>Perfect inside and out</td>\n",
              "      <td>Owner</td>\n",
              "      <td>SUV</td>\n",
              "      <td>8</td>\n",
              "      <td>Automatic Transmission</td>\n",
              "      <td>GCC Specs</td>\n",
              "      <td>400 - 500 HP</td>\n",
              "      <td>Gasoline</td>\n",
              "      <td>Left Hand Side</td>\n",
              "      <td>2014.0</td>\n",
              "      <td>White</td>\n",
              "      <td>Dubai</td>\n",
              "      <td>Platinum</td>\n",
              "      <td>cadillac</td>\n",
              "      <td>escalade</td>\n",
              "      <td>11/05/2022</td>\n",
              "    </tr>\n",
              "    <tr>\n",
              "      <th>679,000</th>\n",
              "      <td>WARRANTY AVAILABLE || Range Rover Sport SVR Ca...</td>\n",
              "      <td>100</td>\n",
              "      <td>Perfect inside and out</td>\n",
              "      <td>Perfect inside and out</td>\n",
              "      <td>Dealer</td>\n",
              "      <td>SUV</td>\n",
              "      <td>8</td>\n",
              "      <td>Automatic Transmission</td>\n",
              "      <td>Other</td>\n",
              "      <td>400 - 500 HP</td>\n",
              "      <td>Gasoline</td>\n",
              "      <td>Left Hand Side</td>\n",
              "      <td>NaN</td>\n",
              "      <td>Black</td>\n",
              "      <td>Dubai</td>\n",
              "      <td>SVR</td>\n",
              "      <td>land-rover</td>\n",
              "      <td>range-rover-sport</td>\n",
              "      <td>14/12/2021</td>\n",
              "    </tr>\n",
              "    <tr>\n",
              "      <th>18,900</th>\n",
              "      <td>Chevrolet Malibu  GCC Spec</td>\n",
              "      <td>140000</td>\n",
              "      <td>No accidents, very few faults</td>\n",
              "      <td>Perfect inside and out</td>\n",
              "      <td>Owner</td>\n",
              "      <td>Sedan</td>\n",
              "      <td>4</td>\n",
              "      <td>Automatic Transmission</td>\n",
              "      <td>GCC Specs</td>\n",
              "      <td>150 - 200 HP</td>\n",
              "      <td>Gasoline</td>\n",
              "      <td>Left Hand Side</td>\n",
              "      <td>2013.0</td>\n",
              "      <td>White</td>\n",
              "      <td>Dubai</td>\n",
              "      <td>LS</td>\n",
              "      <td>chevrolet</td>\n",
              "      <td>malibu</td>\n",
              "      <td>06/03/2022</td>\n",
              "    </tr>\n",
              "    <tr>\n",
              "      <th>77,700</th>\n",
              "      <td>LOW MILEAGE! PERFECT CONDITION! Jeep Wrangler ...</td>\n",
              "      <td>86000</td>\n",
              "      <td>Perfect inside and out</td>\n",
              "      <td>Perfect inside and out</td>\n",
              "      <td>Dealer</td>\n",
              "      <td>Crossover</td>\n",
              "      <td>6</td>\n",
              "      <td>Manual Transmission</td>\n",
              "      <td>GCC Specs</td>\n",
              "      <td>200 - 300 HP</td>\n",
              "      <td>Gasoline</td>\n",
              "      <td>Left Hand Side</td>\n",
              "      <td>2013.0</td>\n",
              "      <td>Orange</td>\n",
              "      <td>Dubai</td>\n",
              "      <td>Sahara</td>\n",
              "      <td>jeep</td>\n",
              "      <td>wrangler</td>\n",
              "      <td>04/12/2021</td>\n",
              "    </tr>\n",
              "  </tbody>\n",
              "</table>\n",
              "<p>9970 rows × 19 columns</p>\n",
              "</div>\n",
              "      <button class=\"colab-df-convert\" onclick=\"convertToInteractive('df-3c28c7be-6f2c-4b29-b3ce-674e136ff05c')\"\n",
              "              title=\"Convert this dataframe to an interactive table.\"\n",
              "              style=\"display:none;\">\n",
              "        \n",
              "  <svg xmlns=\"http://www.w3.org/2000/svg\" height=\"24px\"viewBox=\"0 0 24 24\"\n",
              "       width=\"24px\">\n",
              "    <path d=\"M0 0h24v24H0V0z\" fill=\"none\"/>\n",
              "    <path d=\"M18.56 5.44l.94 2.06.94-2.06 2.06-.94-2.06-.94-.94-2.06-.94 2.06-2.06.94zm-11 1L8.5 8.5l.94-2.06 2.06-.94-2.06-.94L8.5 2.5l-.94 2.06-2.06.94zm10 10l.94 2.06.94-2.06 2.06-.94-2.06-.94-.94-2.06-.94 2.06-2.06.94z\"/><path d=\"M17.41 7.96l-1.37-1.37c-.4-.4-.92-.59-1.43-.59-.52 0-1.04.2-1.43.59L10.3 9.45l-7.72 7.72c-.78.78-.78 2.05 0 2.83L4 21.41c.39.39.9.59 1.41.59.51 0 1.02-.2 1.41-.59l7.78-7.78 2.81-2.81c.8-.78.8-2.07 0-2.86zM5.41 20L4 18.59l7.72-7.72 1.47 1.35L5.41 20z\"/>\n",
              "  </svg>\n",
              "      </button>\n",
              "      \n",
              "  <style>\n",
              "    .colab-df-container {\n",
              "      display:flex;\n",
              "      flex-wrap:wrap;\n",
              "      gap: 12px;\n",
              "    }\n",
              "\n",
              "    .colab-df-convert {\n",
              "      background-color: #E8F0FE;\n",
              "      border: none;\n",
              "      border-radius: 50%;\n",
              "      cursor: pointer;\n",
              "      display: none;\n",
              "      fill: #1967D2;\n",
              "      height: 32px;\n",
              "      padding: 0 0 0 0;\n",
              "      width: 32px;\n",
              "    }\n",
              "\n",
              "    .colab-df-convert:hover {\n",
              "      background-color: #E2EBFA;\n",
              "      box-shadow: 0px 1px 2px rgba(60, 64, 67, 0.3), 0px 1px 3px 1px rgba(60, 64, 67, 0.15);\n",
              "      fill: #174EA6;\n",
              "    }\n",
              "\n",
              "    [theme=dark] .colab-df-convert {\n",
              "      background-color: #3B4455;\n",
              "      fill: #D2E3FC;\n",
              "    }\n",
              "\n",
              "    [theme=dark] .colab-df-convert:hover {\n",
              "      background-color: #434B5C;\n",
              "      box-shadow: 0px 1px 3px 1px rgba(0, 0, 0, 0.15);\n",
              "      filter: drop-shadow(0px 1px 2px rgba(0, 0, 0, 0.3));\n",
              "      fill: #FFFFFF;\n",
              "    }\n",
              "  </style>\n",
              "\n",
              "      <script>\n",
              "        const buttonEl =\n",
              "          document.querySelector('#df-3c28c7be-6f2c-4b29-b3ce-674e136ff05c button.colab-df-convert');\n",
              "        buttonEl.style.display =\n",
              "          google.colab.kernel.accessAllowed ? 'block' : 'none';\n",
              "\n",
              "        async function convertToInteractive(key) {\n",
              "          const element = document.querySelector('#df-3c28c7be-6f2c-4b29-b3ce-674e136ff05c');\n",
              "          const dataTable =\n",
              "            await google.colab.kernel.invokeFunction('convertToInteractive',\n",
              "                                                     [key], {});\n",
              "          if (!dataTable) return;\n",
              "\n",
              "          const docLinkHtml = 'Like what you see? Visit the ' +\n",
              "            '<a target=\"_blank\" href=https://colab.research.google.com/notebooks/data_table.ipynb>data table notebook</a>'\n",
              "            + ' to learn more about interactive tables.';\n",
              "          element.innerHTML = '';\n",
              "          dataTable['output_type'] = 'display_data';\n",
              "          await google.colab.output.renderOutput(dataTable, element);\n",
              "          const docLink = document.createElement('div');\n",
              "          docLink.innerHTML = docLinkHtml;\n",
              "          element.appendChild(docLink);\n",
              "        }\n",
              "      </script>\n",
              "    </div>\n",
              "  </div>\n",
              "  "
            ]
          },
          "metadata": {},
          "execution_count": 53
        }
      ]
    },
    {
      "cell_type": "code",
      "source": [
        "df = data.loc[:,[\"kilometers\", \"no_of_cylinders\", \"horsepower\",\"year\"]]"
      ],
      "metadata": {
        "id": "kbNahgl0bEgS"
      },
      "execution_count": 54,
      "outputs": []
    },
    {
      "cell_type": "code",
      "source": [
        "df"
      ],
      "metadata": {
        "colab": {
          "base_uri": "https://localhost:8080/",
          "height": 455
        },
        "id": "udiP38CzwdhE",
        "outputId": "5cb058f8-39d5-4997-d0d7-6bad054dae22"
      },
      "execution_count": 55,
      "outputs": [
        {
          "output_type": "execute_result",
          "data": {
            "text/plain": [
              "              kilometers no_of_cylinders        horsepower    year\n",
              "price_in_aed                                                      \n",
              "26,000            167390               6           Unknown  2013.0\n",
              "110,000            39000               8      400 - 500 HP  2018.0\n",
              "78,000            200000               6      400 - 500 HP  2014.0\n",
              "899,000            27000               8      600 - 700 HP  2018.0\n",
              "33,000             69000               4  Less than 150 HP  2020.0\n",
              "...                  ...             ...               ...     ...\n",
              "215,000           105777               8      500 - 600 HP  2015.0\n",
              "90,000             55640               8      400 - 500 HP  2014.0\n",
              "679,000              100               8      400 - 500 HP     NaN\n",
              "18,900            140000               4      150 - 200 HP  2013.0\n",
              "77,700             86000               6      200 - 300 HP  2013.0\n",
              "\n",
              "[9970 rows x 4 columns]"
            ],
            "text/html": [
              "\n",
              "  <div id=\"df-e03ebf5e-6b5b-44d4-a0d2-51cc810479e6\">\n",
              "    <div class=\"colab-df-container\">\n",
              "      <div>\n",
              "<style scoped>\n",
              "    .dataframe tbody tr th:only-of-type {\n",
              "        vertical-align: middle;\n",
              "    }\n",
              "\n",
              "    .dataframe tbody tr th {\n",
              "        vertical-align: top;\n",
              "    }\n",
              "\n",
              "    .dataframe thead th {\n",
              "        text-align: right;\n",
              "    }\n",
              "</style>\n",
              "<table border=\"1\" class=\"dataframe\">\n",
              "  <thead>\n",
              "    <tr style=\"text-align: right;\">\n",
              "      <th></th>\n",
              "      <th>kilometers</th>\n",
              "      <th>no_of_cylinders</th>\n",
              "      <th>horsepower</th>\n",
              "      <th>year</th>\n",
              "    </tr>\n",
              "    <tr>\n",
              "      <th>price_in_aed</th>\n",
              "      <th></th>\n",
              "      <th></th>\n",
              "      <th></th>\n",
              "      <th></th>\n",
              "    </tr>\n",
              "  </thead>\n",
              "  <tbody>\n",
              "    <tr>\n",
              "      <th>26,000</th>\n",
              "      <td>167390</td>\n",
              "      <td>6</td>\n",
              "      <td>Unknown</td>\n",
              "      <td>2013.0</td>\n",
              "    </tr>\n",
              "    <tr>\n",
              "      <th>110,000</th>\n",
              "      <td>39000</td>\n",
              "      <td>8</td>\n",
              "      <td>400 - 500 HP</td>\n",
              "      <td>2018.0</td>\n",
              "    </tr>\n",
              "    <tr>\n",
              "      <th>78,000</th>\n",
              "      <td>200000</td>\n",
              "      <td>6</td>\n",
              "      <td>400 - 500 HP</td>\n",
              "      <td>2014.0</td>\n",
              "    </tr>\n",
              "    <tr>\n",
              "      <th>899,000</th>\n",
              "      <td>27000</td>\n",
              "      <td>8</td>\n",
              "      <td>600 - 700 HP</td>\n",
              "      <td>2018.0</td>\n",
              "    </tr>\n",
              "    <tr>\n",
              "      <th>33,000</th>\n",
              "      <td>69000</td>\n",
              "      <td>4</td>\n",
              "      <td>Less than 150 HP</td>\n",
              "      <td>2020.0</td>\n",
              "    </tr>\n",
              "    <tr>\n",
              "      <th>...</th>\n",
              "      <td>...</td>\n",
              "      <td>...</td>\n",
              "      <td>...</td>\n",
              "      <td>...</td>\n",
              "    </tr>\n",
              "    <tr>\n",
              "      <th>215,000</th>\n",
              "      <td>105777</td>\n",
              "      <td>8</td>\n",
              "      <td>500 - 600 HP</td>\n",
              "      <td>2015.0</td>\n",
              "    </tr>\n",
              "    <tr>\n",
              "      <th>90,000</th>\n",
              "      <td>55640</td>\n",
              "      <td>8</td>\n",
              "      <td>400 - 500 HP</td>\n",
              "      <td>2014.0</td>\n",
              "    </tr>\n",
              "    <tr>\n",
              "      <th>679,000</th>\n",
              "      <td>100</td>\n",
              "      <td>8</td>\n",
              "      <td>400 - 500 HP</td>\n",
              "      <td>NaN</td>\n",
              "    </tr>\n",
              "    <tr>\n",
              "      <th>18,900</th>\n",
              "      <td>140000</td>\n",
              "      <td>4</td>\n",
              "      <td>150 - 200 HP</td>\n",
              "      <td>2013.0</td>\n",
              "    </tr>\n",
              "    <tr>\n",
              "      <th>77,700</th>\n",
              "      <td>86000</td>\n",
              "      <td>6</td>\n",
              "      <td>200 - 300 HP</td>\n",
              "      <td>2013.0</td>\n",
              "    </tr>\n",
              "  </tbody>\n",
              "</table>\n",
              "<p>9970 rows × 4 columns</p>\n",
              "</div>\n",
              "      <button class=\"colab-df-convert\" onclick=\"convertToInteractive('df-e03ebf5e-6b5b-44d4-a0d2-51cc810479e6')\"\n",
              "              title=\"Convert this dataframe to an interactive table.\"\n",
              "              style=\"display:none;\">\n",
              "        \n",
              "  <svg xmlns=\"http://www.w3.org/2000/svg\" height=\"24px\"viewBox=\"0 0 24 24\"\n",
              "       width=\"24px\">\n",
              "    <path d=\"M0 0h24v24H0V0z\" fill=\"none\"/>\n",
              "    <path d=\"M18.56 5.44l.94 2.06.94-2.06 2.06-.94-2.06-.94-.94-2.06-.94 2.06-2.06.94zm-11 1L8.5 8.5l.94-2.06 2.06-.94-2.06-.94L8.5 2.5l-.94 2.06-2.06.94zm10 10l.94 2.06.94-2.06 2.06-.94-2.06-.94-.94-2.06-.94 2.06-2.06.94z\"/><path d=\"M17.41 7.96l-1.37-1.37c-.4-.4-.92-.59-1.43-.59-.52 0-1.04.2-1.43.59L10.3 9.45l-7.72 7.72c-.78.78-.78 2.05 0 2.83L4 21.41c.39.39.9.59 1.41.59.51 0 1.02-.2 1.41-.59l7.78-7.78 2.81-2.81c.8-.78.8-2.07 0-2.86zM5.41 20L4 18.59l7.72-7.72 1.47 1.35L5.41 20z\"/>\n",
              "  </svg>\n",
              "      </button>\n",
              "      \n",
              "  <style>\n",
              "    .colab-df-container {\n",
              "      display:flex;\n",
              "      flex-wrap:wrap;\n",
              "      gap: 12px;\n",
              "    }\n",
              "\n",
              "    .colab-df-convert {\n",
              "      background-color: #E8F0FE;\n",
              "      border: none;\n",
              "      border-radius: 50%;\n",
              "      cursor: pointer;\n",
              "      display: none;\n",
              "      fill: #1967D2;\n",
              "      height: 32px;\n",
              "      padding: 0 0 0 0;\n",
              "      width: 32px;\n",
              "    }\n",
              "\n",
              "    .colab-df-convert:hover {\n",
              "      background-color: #E2EBFA;\n",
              "      box-shadow: 0px 1px 2px rgba(60, 64, 67, 0.3), 0px 1px 3px 1px rgba(60, 64, 67, 0.15);\n",
              "      fill: #174EA6;\n",
              "    }\n",
              "\n",
              "    [theme=dark] .colab-df-convert {\n",
              "      background-color: #3B4455;\n",
              "      fill: #D2E3FC;\n",
              "    }\n",
              "\n",
              "    [theme=dark] .colab-df-convert:hover {\n",
              "      background-color: #434B5C;\n",
              "      box-shadow: 0px 1px 3px 1px rgba(0, 0, 0, 0.15);\n",
              "      filter: drop-shadow(0px 1px 2px rgba(0, 0, 0, 0.3));\n",
              "      fill: #FFFFFF;\n",
              "    }\n",
              "  </style>\n",
              "\n",
              "      <script>\n",
              "        const buttonEl =\n",
              "          document.querySelector('#df-e03ebf5e-6b5b-44d4-a0d2-51cc810479e6 button.colab-df-convert');\n",
              "        buttonEl.style.display =\n",
              "          google.colab.kernel.accessAllowed ? 'block' : 'none';\n",
              "\n",
              "        async function convertToInteractive(key) {\n",
              "          const element = document.querySelector('#df-e03ebf5e-6b5b-44d4-a0d2-51cc810479e6');\n",
              "          const dataTable =\n",
              "            await google.colab.kernel.invokeFunction('convertToInteractive',\n",
              "                                                     [key], {});\n",
              "          if (!dataTable) return;\n",
              "\n",
              "          const docLinkHtml = 'Like what you see? Visit the ' +\n",
              "            '<a target=\"_blank\" href=https://colab.research.google.com/notebooks/data_table.ipynb>data table notebook</a>'\n",
              "            + ' to learn more about interactive tables.';\n",
              "          element.innerHTML = '';\n",
              "          dataTable['output_type'] = 'display_data';\n",
              "          await google.colab.output.renderOutput(dataTable, element);\n",
              "          const docLink = document.createElement('div');\n",
              "          docLink.innerHTML = docLinkHtml;\n",
              "          element.appendChild(docLink);\n",
              "        }\n",
              "      </script>\n",
              "    </div>\n",
              "  </div>\n",
              "  "
            ]
          },
          "metadata": {},
          "execution_count": 55
        }
      ]
    },
    {
      "cell_type": "code",
      "source": [
        "df.isnull().sum()"
      ],
      "metadata": {
        "colab": {
          "base_uri": "https://localhost:8080/"
        },
        "id": "67vOlxEqwkR5",
        "outputId": "6cae5bc2-6efa-42a7-d702-62ada2ada1fd"
      },
      "execution_count": 56,
      "outputs": [
        {
          "output_type": "execute_result",
          "data": {
            "text/plain": [
              "kilometers           0\n",
              "no_of_cylinders     59\n",
              "horsepower           0\n",
              "year               970\n",
              "dtype: int64"
            ]
          },
          "metadata": {},
          "execution_count": 56
        }
      ]
    },
    {
      "cell_type": "code",
      "source": [
        "df = df.fillna(df.mean())"
      ],
      "metadata": {
        "colab": {
          "base_uri": "https://localhost:8080/"
        },
        "id": "4EXamI-Bx59k",
        "outputId": "e511e1f4-117e-47e5-a483-a69c9c3ccd62"
      },
      "execution_count": 57,
      "outputs": [
        {
          "output_type": "stream",
          "name": "stderr",
          "text": [
            "<ipython-input-57-04e87d67d337>:1: FutureWarning: Dropping of nuisance columns in DataFrame reductions (with 'numeric_only=None') is deprecated; in a future version this will raise TypeError.  Select only valid columns before calling the reduction.\n",
            "  df = df.fillna(df.mean())\n"
          ]
        }
      ]
    },
    {
      "cell_type": "code",
      "source": [
        "df.isnull().sum()"
      ],
      "metadata": {
        "colab": {
          "base_uri": "https://localhost:8080/"
        },
        "id": "0grPKrMMyToW",
        "outputId": "7a6118f8-08ce-484b-c6be-3fb49a734007"
      },
      "execution_count": 58,
      "outputs": [
        {
          "output_type": "execute_result",
          "data": {
            "text/plain": [
              "kilometers          0\n",
              "no_of_cylinders    59\n",
              "horsepower          0\n",
              "year                0\n",
              "dtype: int64"
            ]
          },
          "metadata": {},
          "execution_count": 58
        }
      ]
    },
    {
      "cell_type": "code",
      "source": [
        "df.info()"
      ],
      "metadata": {
        "colab": {
          "base_uri": "https://localhost:8080/"
        },
        "id": "UK2lY3rwyz35",
        "outputId": "eda9090b-95fd-4484-f5ff-40b2f87d10d6"
      },
      "execution_count": 59,
      "outputs": [
        {
          "output_type": "stream",
          "name": "stdout",
          "text": [
            "<class 'pandas.core.frame.DataFrame'>\n",
            "Index: 9970 entries, 26,000 to 77,700\n",
            "Data columns (total 4 columns):\n",
            " #   Column           Non-Null Count  Dtype  \n",
            "---  ------           --------------  -----  \n",
            " 0   kilometers       9970 non-null   int64  \n",
            " 1   no_of_cylinders  9911 non-null   object \n",
            " 2   horsepower       9970 non-null   object \n",
            " 3   year             9970 non-null   float64\n",
            "dtypes: float64(1), int64(1), object(2)\n",
            "memory usage: 389.5+ KB\n"
          ]
        }
      ]
    },
    {
      "cell_type": "code",
      "source": [
        "df.dropna()"
      ],
      "metadata": {
        "colab": {
          "base_uri": "https://localhost:8080/",
          "height": 455
        },
        "id": "JJCsoayU04jI",
        "outputId": "0ce44153-c8e1-43b5-c3c7-3fd04a046fc0"
      },
      "execution_count": 60,
      "outputs": [
        {
          "output_type": "execute_result",
          "data": {
            "text/plain": [
              "              kilometers no_of_cylinders        horsepower         year\n",
              "price_in_aed                                                           \n",
              "26,000            167390               6           Unknown  2013.000000\n",
              "110,000            39000               8      400 - 500 HP  2018.000000\n",
              "78,000            200000               6      400 - 500 HP  2014.000000\n",
              "899,000            27000               8      600 - 700 HP  2018.000000\n",
              "33,000             69000               4  Less than 150 HP  2020.000000\n",
              "...                  ...             ...               ...          ...\n",
              "215,000           105777               8      500 - 600 HP  2015.000000\n",
              "90,000             55640               8      400 - 500 HP  2014.000000\n",
              "679,000              100               8      400 - 500 HP  2015.626444\n",
              "18,900            140000               4      150 - 200 HP  2013.000000\n",
              "77,700             86000               6      200 - 300 HP  2013.000000\n",
              "\n",
              "[9911 rows x 4 columns]"
            ],
            "text/html": [
              "\n",
              "  <div id=\"df-5eba367f-bbbc-4b41-a4af-48e97b3154d4\">\n",
              "    <div class=\"colab-df-container\">\n",
              "      <div>\n",
              "<style scoped>\n",
              "    .dataframe tbody tr th:only-of-type {\n",
              "        vertical-align: middle;\n",
              "    }\n",
              "\n",
              "    .dataframe tbody tr th {\n",
              "        vertical-align: top;\n",
              "    }\n",
              "\n",
              "    .dataframe thead th {\n",
              "        text-align: right;\n",
              "    }\n",
              "</style>\n",
              "<table border=\"1\" class=\"dataframe\">\n",
              "  <thead>\n",
              "    <tr style=\"text-align: right;\">\n",
              "      <th></th>\n",
              "      <th>kilometers</th>\n",
              "      <th>no_of_cylinders</th>\n",
              "      <th>horsepower</th>\n",
              "      <th>year</th>\n",
              "    </tr>\n",
              "    <tr>\n",
              "      <th>price_in_aed</th>\n",
              "      <th></th>\n",
              "      <th></th>\n",
              "      <th></th>\n",
              "      <th></th>\n",
              "    </tr>\n",
              "  </thead>\n",
              "  <tbody>\n",
              "    <tr>\n",
              "      <th>26,000</th>\n",
              "      <td>167390</td>\n",
              "      <td>6</td>\n",
              "      <td>Unknown</td>\n",
              "      <td>2013.000000</td>\n",
              "    </tr>\n",
              "    <tr>\n",
              "      <th>110,000</th>\n",
              "      <td>39000</td>\n",
              "      <td>8</td>\n",
              "      <td>400 - 500 HP</td>\n",
              "      <td>2018.000000</td>\n",
              "    </tr>\n",
              "    <tr>\n",
              "      <th>78,000</th>\n",
              "      <td>200000</td>\n",
              "      <td>6</td>\n",
              "      <td>400 - 500 HP</td>\n",
              "      <td>2014.000000</td>\n",
              "    </tr>\n",
              "    <tr>\n",
              "      <th>899,000</th>\n",
              "      <td>27000</td>\n",
              "      <td>8</td>\n",
              "      <td>600 - 700 HP</td>\n",
              "      <td>2018.000000</td>\n",
              "    </tr>\n",
              "    <tr>\n",
              "      <th>33,000</th>\n",
              "      <td>69000</td>\n",
              "      <td>4</td>\n",
              "      <td>Less than 150 HP</td>\n",
              "      <td>2020.000000</td>\n",
              "    </tr>\n",
              "    <tr>\n",
              "      <th>...</th>\n",
              "      <td>...</td>\n",
              "      <td>...</td>\n",
              "      <td>...</td>\n",
              "      <td>...</td>\n",
              "    </tr>\n",
              "    <tr>\n",
              "      <th>215,000</th>\n",
              "      <td>105777</td>\n",
              "      <td>8</td>\n",
              "      <td>500 - 600 HP</td>\n",
              "      <td>2015.000000</td>\n",
              "    </tr>\n",
              "    <tr>\n",
              "      <th>90,000</th>\n",
              "      <td>55640</td>\n",
              "      <td>8</td>\n",
              "      <td>400 - 500 HP</td>\n",
              "      <td>2014.000000</td>\n",
              "    </tr>\n",
              "    <tr>\n",
              "      <th>679,000</th>\n",
              "      <td>100</td>\n",
              "      <td>8</td>\n",
              "      <td>400 - 500 HP</td>\n",
              "      <td>2015.626444</td>\n",
              "    </tr>\n",
              "    <tr>\n",
              "      <th>18,900</th>\n",
              "      <td>140000</td>\n",
              "      <td>4</td>\n",
              "      <td>150 - 200 HP</td>\n",
              "      <td>2013.000000</td>\n",
              "    </tr>\n",
              "    <tr>\n",
              "      <th>77,700</th>\n",
              "      <td>86000</td>\n",
              "      <td>6</td>\n",
              "      <td>200 - 300 HP</td>\n",
              "      <td>2013.000000</td>\n",
              "    </tr>\n",
              "  </tbody>\n",
              "</table>\n",
              "<p>9911 rows × 4 columns</p>\n",
              "</div>\n",
              "      <button class=\"colab-df-convert\" onclick=\"convertToInteractive('df-5eba367f-bbbc-4b41-a4af-48e97b3154d4')\"\n",
              "              title=\"Convert this dataframe to an interactive table.\"\n",
              "              style=\"display:none;\">\n",
              "        \n",
              "  <svg xmlns=\"http://www.w3.org/2000/svg\" height=\"24px\"viewBox=\"0 0 24 24\"\n",
              "       width=\"24px\">\n",
              "    <path d=\"M0 0h24v24H0V0z\" fill=\"none\"/>\n",
              "    <path d=\"M18.56 5.44l.94 2.06.94-2.06 2.06-.94-2.06-.94-.94-2.06-.94 2.06-2.06.94zm-11 1L8.5 8.5l.94-2.06 2.06-.94-2.06-.94L8.5 2.5l-.94 2.06-2.06.94zm10 10l.94 2.06.94-2.06 2.06-.94-2.06-.94-.94-2.06-.94 2.06-2.06.94z\"/><path d=\"M17.41 7.96l-1.37-1.37c-.4-.4-.92-.59-1.43-.59-.52 0-1.04.2-1.43.59L10.3 9.45l-7.72 7.72c-.78.78-.78 2.05 0 2.83L4 21.41c.39.39.9.59 1.41.59.51 0 1.02-.2 1.41-.59l7.78-7.78 2.81-2.81c.8-.78.8-2.07 0-2.86zM5.41 20L4 18.59l7.72-7.72 1.47 1.35L5.41 20z\"/>\n",
              "  </svg>\n",
              "      </button>\n",
              "      \n",
              "  <style>\n",
              "    .colab-df-container {\n",
              "      display:flex;\n",
              "      flex-wrap:wrap;\n",
              "      gap: 12px;\n",
              "    }\n",
              "\n",
              "    .colab-df-convert {\n",
              "      background-color: #E8F0FE;\n",
              "      border: none;\n",
              "      border-radius: 50%;\n",
              "      cursor: pointer;\n",
              "      display: none;\n",
              "      fill: #1967D2;\n",
              "      height: 32px;\n",
              "      padding: 0 0 0 0;\n",
              "      width: 32px;\n",
              "    }\n",
              "\n",
              "    .colab-df-convert:hover {\n",
              "      background-color: #E2EBFA;\n",
              "      box-shadow: 0px 1px 2px rgba(60, 64, 67, 0.3), 0px 1px 3px 1px rgba(60, 64, 67, 0.15);\n",
              "      fill: #174EA6;\n",
              "    }\n",
              "\n",
              "    [theme=dark] .colab-df-convert {\n",
              "      background-color: #3B4455;\n",
              "      fill: #D2E3FC;\n",
              "    }\n",
              "\n",
              "    [theme=dark] .colab-df-convert:hover {\n",
              "      background-color: #434B5C;\n",
              "      box-shadow: 0px 1px 3px 1px rgba(0, 0, 0, 0.15);\n",
              "      filter: drop-shadow(0px 1px 2px rgba(0, 0, 0, 0.3));\n",
              "      fill: #FFFFFF;\n",
              "    }\n",
              "  </style>\n",
              "\n",
              "      <script>\n",
              "        const buttonEl =\n",
              "          document.querySelector('#df-5eba367f-bbbc-4b41-a4af-48e97b3154d4 button.colab-df-convert');\n",
              "        buttonEl.style.display =\n",
              "          google.colab.kernel.accessAllowed ? 'block' : 'none';\n",
              "\n",
              "        async function convertToInteractive(key) {\n",
              "          const element = document.querySelector('#df-5eba367f-bbbc-4b41-a4af-48e97b3154d4');\n",
              "          const dataTable =\n",
              "            await google.colab.kernel.invokeFunction('convertToInteractive',\n",
              "                                                     [key], {});\n",
              "          if (!dataTable) return;\n",
              "\n",
              "          const docLinkHtml = 'Like what you see? Visit the ' +\n",
              "            '<a target=\"_blank\" href=https://colab.research.google.com/notebooks/data_table.ipynb>data table notebook</a>'\n",
              "            + ' to learn more about interactive tables.';\n",
              "          element.innerHTML = '';\n",
              "          dataTable['output_type'] = 'display_data';\n",
              "          await google.colab.output.renderOutput(dataTable, element);\n",
              "          const docLink = document.createElement('div');\n",
              "          docLink.innerHTML = docLinkHtml;\n",
              "          element.appendChild(docLink);\n",
              "        }\n",
              "      </script>\n",
              "    </div>\n",
              "  </div>\n",
              "  "
            ]
          },
          "metadata": {},
          "execution_count": 60
        }
      ]
    },
    {
      "cell_type": "code",
      "source": [
        "df = df[df['horsepower'] != 'Unknown']\n",
        "df = df[df['no_of_cylinders'] != 'Unknown']\n",
        "df = df[df['no_of_cylinders'] != 'None']"
      ],
      "metadata": {
        "id": "A0leNuZ_0kT7"
      },
      "execution_count": 65,
      "outputs": []
    },
    {
      "cell_type": "code",
      "source": [
        "df = df.reset_index()"
      ],
      "metadata": {
        "id": "E9DgA-KRKkD8"
      },
      "execution_count": 61,
      "outputs": []
    },
    {
      "cell_type": "code",
      "source": [
        "df['horsepower'].dtype"
      ],
      "metadata": {
        "colab": {
          "base_uri": "https://localhost:8080/"
        },
        "id": "RZmcNoCcIFdR",
        "outputId": "8857b522-b148-4f3c-8f6f-085233b90a10"
      },
      "execution_count": 62,
      "outputs": [
        {
          "output_type": "execute_result",
          "data": {
            "text/plain": [
              "dtype('O')"
            ]
          },
          "metadata": {},
          "execution_count": 62
        }
      ]
    },
    {
      "cell_type": "code",
      "source": [
        "df['horsepower'].head()"
      ],
      "metadata": {
        "colab": {
          "base_uri": "https://localhost:8080/"
        },
        "id": "6_DTvarqIXh4",
        "outputId": "791124f9-7b3c-42b1-8d76-95130f8b8aa8"
      },
      "execution_count": 63,
      "outputs": [
        {
          "output_type": "execute_result",
          "data": {
            "text/plain": [
              "0             Unknown\n",
              "1        400 - 500 HP\n",
              "2        400 - 500 HP\n",
              "3        600 - 700 HP\n",
              "4    Less than 150 HP\n",
              "Name: horsepower, dtype: object"
            ]
          },
          "metadata": {},
          "execution_count": 63
        }
      ]
    },
    {
      "cell_type": "code",
      "source": [
        "df['kilometers'].head()"
      ],
      "metadata": {
        "colab": {
          "base_uri": "https://localhost:8080/"
        },
        "id": "PhzeedU4NhX-",
        "outputId": "39e02731-94be-42ba-a129-cd61535776e7"
      },
      "execution_count": 71,
      "outputs": [
        {
          "output_type": "execute_result",
          "data": {
            "text/plain": [
              "1     39000\n",
              "2    200000\n",
              "3     27000\n",
              "4     69000\n",
              "5     84000\n",
              "Name: kilometers, dtype: int64"
            ]
          },
          "metadata": {},
          "execution_count": 71
        }
      ]
    },
    {
      "cell_type": "code",
      "source": [
        "df['horsepower'] = df['horsepower'].apply(lambda x: (x.split()[0]))\n",
        "df[\"horsepower\"].replace(\"Less\", \"100\", inplace=True, regex=True)\n",
        "df = df[df['horsepower'] != '900+']\n",
        "df[\"horsepower\"] = pd.to_numeric(df[\"horsepower\"])"
      ],
      "metadata": {
        "id": "1RQYIDCI8Gdm"
      },
      "execution_count": 66,
      "outputs": []
    },
    {
      "cell_type": "code",
      "source": [
        "df.drop(df.loc[df['kilometers'] > 300000].index, inplace=True)"
      ],
      "metadata": {
        "id": "LnPi-0e3ON7w"
      },
      "execution_count": 72,
      "outputs": []
    },
    {
      "cell_type": "code",
      "source": [
        "df[\"no_of_cylinders\"] = pd.to_numeric(df[\"no_of_cylinders\"])"
      ],
      "metadata": {
        "id": "9GV3dBNq8hml"
      },
      "execution_count": 73,
      "outputs": []
    },
    {
      "cell_type": "code",
      "source": [
        "sns.pairplot(df)"
      ],
      "metadata": {
        "colab": {
          "base_uri": "https://localhost:8080/",
          "height": 743
        },
        "id": "h6wy6isy9YJH",
        "outputId": "efdd645c-2847-4b8e-f76b-563c19422ea4"
      },
      "execution_count": 74,
      "outputs": [
        {
          "output_type": "execute_result",
          "data": {
            "text/plain": [
              "<seaborn.axisgrid.PairGrid at 0x7f6abbdf2eb0>"
            ]
          },
          "metadata": {},
          "execution_count": 74
        },
        {
          "output_type": "display_data",
          "data": {
            "text/plain": [
              "<Figure size 720x720 with 20 Axes>"
            ],
            "image/png": "[encoded data removed]"
          },
          "metadata": {
            "needs_background": "light"
          }
        }
      ]
    },
    {
      "cell_type": "code",
      "source": [
        "sns.heatmap(df.corr(), annot=True)"
      ],
      "metadata": {
        "colab": {
          "base_uri": "https://localhost:8080/",
          "height": 354
        },
        "id": "AU5jFgijC-4b",
        "outputId": "47fdf964-9445-4b62-92d1-93f6305bb5f7"
      },
      "execution_count": 75,
      "outputs": [
        {
          "output_type": "execute_result",
          "data": {
            "text/plain": [
              "<matplotlib.axes._subplots.AxesSubplot at 0x7f6ab911b040>"
            ]
          },
          "metadata": {},
          "execution_count": 75
        },
        {
          "output_type": "display_data",
          "data": {
            "text/plain": [
              "<Figure size 432x288 with 2 Axes>"
            ],
            "image/png": "[encoded data removed]"
          },
          "metadata": {
            "needs_background": "light"
          }
        }
      ]
    },
    {
      "cell_type": "code",
      "source": [],
      "metadata": {
        "id": "C4jpv7PePejW"
      },
      "execution_count": null,
      "outputs": []
    }
  ]
}